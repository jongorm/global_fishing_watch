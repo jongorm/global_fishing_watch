{
 "cells": [
  {
   "cell_type": "markdown",
   "metadata": {},
   "source": [
    "Discuss: which gear type I chose, how the model accuracy varies across gear types, how I could combine all gear types into one model using interactions."
   ]
  },
  {
   "cell_type": "markdown",
   "metadata": {},
   "source": [
    "## __Imports__"
   ]
  },
  {
   "cell_type": "code",
   "execution_count": 390,
   "metadata": {},
   "outputs": [],
   "source": [
    "#General\n",
    "from collections import defaultdict\n",
    "from functools import partial\n",
    "\n",
    "#Data analysis and file operation imports\n",
    "import numpy as np\n",
    "import matplotlib.pyplot as plt\n",
    "import pandas as pd\n",
    "import os\n",
    "import random\n",
    "\n",
    "#Unsupervised learning \n",
    "import hdbscan\n",
    "\n",
    "#Geospatial data libraries\n",
    "from shapely.geometry import Point\n",
    "import geopandas as gpd\n",
    "from geopandas import GeoDataFrame\n",
    "from bokeh.plotting import figure, output_file, show\n",
    "from bokeh.tile_providers import CARTODBPOSITRON, get_provider, WIKIMEDIA\n",
    "from bokeh.models import ColumnDataSource\n",
    "from bokeh.palettes import PRGn, RdYlGn\n",
    "from bokeh.transform import linear_cmap\n",
    "from pyproj import Transformer"
   ]
  },
  {
   "cell_type": "code",
   "execution_count": 451,
   "metadata": {},
   "outputs": [],
   "source": [
    "my_path = \"/home/jonathan/Documents/Py_Projects/gfw_proj/data\"\n",
    "all_files = [\"drifting_longlines.csv\", \"fixed_gear.csv\", \"pole_and_line.csv\", \"purse_seines.csv\", \"trawlers.csv\", \"trollers.csv\"]\n",
    "dl = [\"drifting_longlines.csv\"]\n",
    "tr = [\"trawlers.csv\"]\n",
    "gears = dl + tr"
   ]
  },
  {
   "cell_type": "markdown",
   "metadata": {},
   "source": [
    "'my_path' is the pathname of the directory holding the original data file."
   ]
  },
  {
   "cell_type": "markdown",
   "metadata": {},
   "source": [
    "## __File Manipulation__"
   ]
  },
  {
   "cell_type": "markdown",
   "metadata": {},
   "source": [
    "Now, we will import a custom library to manipulate files in chunks using pandas. "
   ]
  },
  {
   "cell_type": "code",
   "execution_count": 452,
   "metadata": {},
   "outputs": [],
   "source": [
    "import file_manip "
   ]
  },
  {
   "cell_type": "markdown",
   "metadata": {},
   "source": [
    "Below we use combine_csv_in_chunks, which combines all csv files in csv_name_list. It requires the csv files to have the same schema. Then, add_index_in_chunks adds an index to the overall file. It takes pathnames of the read and write files, the read and write files names, as well as the chunk size to process the file by. "
   ]
  },
  {
   "cell_type": "code",
   "execution_count": 453,
   "metadata": {
    "scrolled": true
   },
   "outputs": [],
   "source": [
    "aggregated_csv_name=\"aggregated_file.csv\"\n",
    "file_manip.combine_csv_in_chunks(my_path, my_path, gears, out_csv_name=aggregated_csv_name)"
   ]
  },
  {
   "cell_type": "code",
   "execution_count": 455,
   "metadata": {},
   "outputs": [],
   "source": [
    "file_manip.add_index_in_chunks(my_path, my_path, aggregated_csv_name)"
   ]
  },
  {
   "cell_type": "markdown",
   "metadata": {},
   "source": [
    "From now on use the indexed version of the combined data file. Next, the records that have neither is_fishing of 0 nor 1 are removed in chunks."
   ]
  },
  {
   "cell_type": "code",
   "execution_count": 456,
   "metadata": {},
   "outputs": [],
   "source": [
    "vals_to_keep = [0, 1]\n",
    "file_manip.remove_records(my_path, \"aggregated_file_indexed.csv\", vals_to_keep)"
   ]
  },
  {
   "cell_type": "markdown",
   "metadata": {},
   "source": [
    "Load the whole dataset from the csv created by the above manipulation functions. The whole dataset (where is_fishing is 0 or 1) is loaded because we will be using cross validation, which implicitly performs the training and testing splits."
   ]
  },
  {
   "cell_type": "code",
   "execution_count": 457,
   "metadata": {},
   "outputs": [],
   "source": [
    "original_full = pd.read_csv('/home/jonathan/Documents/Py_Projects/gfw_proj/data/aggregated_file_indexed_filtered.csv')"
   ]
  },
  {
   "cell_type": "markdown",
   "metadata": {},
   "source": [
    "Make a copy of the full dataset that will be fitted, transformed, and estimated in the pipeline. The original is kept for reference."
   ]
  },
  {
   "cell_type": "code",
   "execution_count": 480,
   "metadata": {},
   "outputs": [],
   "source": [
    "cv_full = original_full.copy()"
   ]
  },
  {
   "cell_type": "markdown",
   "metadata": {},
   "source": [
    "Make a string gear type variable."
   ]
  },
  {
   "cell_type": "code",
   "execution_count": 481,
   "metadata": {},
   "outputs": [],
   "source": [
    "cv_full[\"gear_type_str\"] = cv_full[\"gear_type\"].astype(str)"
   ]
  },
  {
   "cell_type": "markdown",
   "metadata": {},
   "source": [
    "Encode the string gear type."
   ]
  },
  {
   "cell_type": "code",
   "execution_count": 482,
   "metadata": {},
   "outputs": [],
   "source": [
    "from sklearn.preprocessing import LabelEncoder\n",
    "le = LabelEncoder()\n",
    "cv_full[\"gear_type_str\"] = le.fit_transform(cv_full[\"gear_type_str\"])"
   ]
  },
  {
   "cell_type": "code",
   "execution_count": 483,
   "metadata": {},
   "outputs": [
    {
     "data": {
      "text/plain": [
       "0    217737\n",
       "1    174929\n",
       "Name: gear_type_str, dtype: int64"
      ]
     },
     "execution_count": 483,
     "metadata": {},
     "output_type": "execute_result"
    }
   ],
   "source": [
    "cv_full[\"gear_type_str\"].value_counts()"
   ]
  },
  {
   "cell_type": "markdown",
   "metadata": {},
   "source": [
    "cv_full and original_full contain the full unchanged dataset except for the removal of all rows with \"is_fishing\" values that are not either 0 or 1."
   ]
  },
  {
   "cell_type": "markdown",
   "metadata": {},
   "source": [
    "## __Visualization__"
   ]
  },
  {
   "cell_type": "markdown",
   "metadata": {},
   "source": [
    "Now, before we proceed, let's verify that the rows with \"is_fishing\" that are not 0 or are 1 are sparse. We will load a random sample called \"eda_subset_notnull\"."
   ]
  },
  {
   "cell_type": "code",
   "execution_count": null,
   "metadata": {},
   "outputs": [],
   "source": [
    "eda_subset_notnull = file_manip.load_data_random_sample(my_path, \"aggregated_file_indexed.csv\", 0.2)"
   ]
  },
  {
   "cell_type": "code",
   "execution_count": 38,
   "metadata": {
    "scrolled": true
   },
   "outputs": [
    {
     "data": {
      "text/plain": [
       "Text(0, 0.5, 'Count')"
      ]
     },
     "execution_count": 38,
     "metadata": {},
     "output_type": "execute_result"
    },
    {
     "data": {
      "image/png": "[encoded data removed]",
      "text/plain": [
       "<Figure size 432x288 with 1 Axes>"
      ]
     },
     "metadata": {
      "needs_background": "light"
     },
     "output_type": "display_data"
    }
   ],
   "source": [
    "plt.hist(eda_subset_notnull['is_fishing'][eda_subset_notnull['is_fishing']!=-1], density=True, bins=20)\n",
    "plt.xlabel('is_fishing')\n",
    "plt.ylabel('Count')"
   ]
  },
  {
   "cell_type": "markdown",
   "metadata": {},
   "source": [
    "Based on the above plot, it would not make much sense to use a multinomial output as a large majority of AIS broadcasts are voted to be either 0 or 1. The classes would be severely imbalanced if we try to predict classes between 0 and 1 for confidence of is_fishing. Thus, we will stick with a binary response and the filtered dataset (which is called \"cv_full\")."
   ]
  },
  {
   "cell_type": "markdown",
   "metadata": {},
   "source": [
    "Because there are multiple time series in the data (one for each boat) and a moving average time series variable will be engineered, let's look at how many observations each vessel has."
   ]
  },
  {
   "cell_type": "code",
   "execution_count": 11,
   "metadata": {
    "scrolled": true
   },
   "outputs": [
    {
     "data": {
      "image/png": "[encoded data removed]",
      "text/plain": [
       "<Figure size 432x288 with 1 Axes>"
      ]
     },
     "metadata": {
      "needs_background": "light"
     },
     "output_type": "display_data"
    }
   ],
   "source": [
    "font = {'fontname' : 'serif'}\n",
    "\n",
    "fig = eda_subset_notnull.mmsi.value_counts().plot(kind='bar')\n",
    "plt.title(\"Frequency of Each MMSI\", fontsize=15, **font)\n",
    "\n",
    "plt.xticks([])\n",
    "plt.yticks(fontsize=12, **font)\n",
    "plt.ylabel(\"Counts\")\n",
    "plt.xlabel(\"MMSI\")\n",
    "\n",
    "plt.show()"
   ]
  },
  {
   "cell_type": "markdown",
   "metadata": {},
   "source": [
    "Our goal is to split the data into chunks, where each chunk is some number n of values from one MMSI. For each chunk, a time series will be made in the pipeline."
   ]
  },
  {
   "cell_type": "markdown",
   "metadata": {},
   "source": [
    "## __Cross Validation Function, Data Splitting, and Preliminary Cleaning__"
   ]
  },
  {
   "cell_type": "markdown",
   "metadata": {},
   "source": [
    "Cross validation with a single hold out (but possibly more if specified) set will use a custom implementation. Each AIS signal is a time series. These time series will be broken up into contiguous chunks, and the chunks will randomly be assigned to training, test, and validation datasets. In each of the chunks, a times series angular velocity moving average variable will be created, along with the other transformations."
   ]
  },
  {
   "cell_type": "markdown",
   "metadata": {},
   "source": [
    "Let's start by completing two data cleaning and preparation tasks:\n",
    "    \n",
    "    1) Removing rows with invalid courses (greater than 360 degrees or negative).\n",
    "    \n",
    "    2) Converting latitude and longitude to mercator coordiantes."
   ]
  },
  {
   "cell_type": "code",
   "execution_count": 484,
   "metadata": {},
   "outputs": [],
   "source": [
    "cv_full = cv_full.loc[(cv_full[\"course\"] <= 360.0) & (cv_full[\"course\"] >= 0.0)]"
   ]
  },
  {
   "cell_type": "markdown",
   "metadata": {},
   "source": [
    "Now cv_full only consists of rows where the course is between 0.0 and 360.0 inclusive. Next, convert the latitude and longitude spherical coordinates to a set of mercator projection coordinates."
   ]
  },
  {
   "cell_type": "code",
   "execution_count": 485,
   "metadata": {},
   "outputs": [],
   "source": [
    "def convert(X, lat_col_name, lon_col_name, crs_from, crs_to):\n",
    "    #M_x and M_y are the new columns.\n",
    "    M_x = [] \n",
    "    M_y = []\n",
    "    #Use pyproj Transformer for transformations.\n",
    "    transformer = Transformer.from_crs(crs_from, crs_to)\n",
    "    #Iterate through the pandas dataframe. \n",
    "    for index, row in X[[lat_col_name, lon_col_name]].iterrows():\n",
    "        x, y = transformer.transform(row[lat_col_name], row[lon_col_name])\n",
    "        M_x.append(x); M_y.append(y)\n",
    "    #Add the new columns to the dataframe.\n",
    "    X['Mercator_x'] = M_x\n",
    "    X['Mercator_y'] = M_y"
   ]
  },
  {
   "cell_type": "code",
   "execution_count": 486,
   "metadata": {},
   "outputs": [],
   "source": [
    "convert(cv_full, 'lat', 'lon', \"epsg:4269\", \"epsg:3847\")"
   ]
  },
  {
   "cell_type": "markdown",
   "metadata": {},
   "source": [
    "The strategy is to make chunks of some size, say 100. If an MMSI has fewer than 100 broadcasts, make it its own smaller chunk. To begin, sort the dataframe by MMSI then by timestamp."
   ]
  },
  {
   "cell_type": "code",
   "execution_count": 487,
   "metadata": {},
   "outputs": [],
   "source": [
    "cv_full = cv_full.sort_values([\"mmsi\", \"timestamp\"])"
   ]
  },
  {
   "cell_type": "code",
   "execution_count": 488,
   "metadata": {},
   "outputs": [
    {
     "data": {
      "text/plain": [
       "(392664, 15)"
      ]
     },
     "execution_count": 488,
     "metadata": {},
     "output_type": "execute_result"
    }
   ],
   "source": [
    "cv_full.shape"
   ]
  },
  {
   "cell_type": "markdown",
   "metadata": {},
   "source": [
    "Now that the dataframe is sorted, we can write a function to assign chunks. In TrainValidTest(), the sort parameter is set to false because we have presorted the dataframe within each mmsi. If that were not the case, we could specify sort to True, which will sort the group within each group's iteration. TrainValidTest() is annotated, so following it should be straightforward, but its overall purpose is to create training and test sets, where the training set has a 'fold' attribute, which assigns folds randomly to the chunks."
   ]
  },
  {
   "cell_type": "code",
   "execution_count": 489,
   "metadata": {
    "scrolled": true
   },
   "outputs": [],
   "source": [
    "def TrainValidTest(data, test_proportion=0.2, folds=5, per=100, sort=False, group_by=\"mmsi\", sort_by=\"timestamp\"):\n",
    "    \n",
    "    #check if data parameter is a pandas dataframe.\n",
    "    assert isinstance(data, pd.DataFrame), \"data parameter should \\\n",
    "        be a pandas dataframe\"\n",
    "    \n",
    "    #initialize chunk index. Every 100 rows, this will \n",
    "    #be incremented to create the next chunk.\n",
    "    chunk = 0\n",
    "    group_chunk_table = defaultdict(list)\n",
    "    \n",
    "    #iterate through groups.\n",
    "    for name, group in data.groupby(group_by):\n",
    "\n",
    "        #because iterating over groups does not return a view\n",
    "        #to the rows of the original dataframe 'data', we have \n",
    "        #two options: grow a dataframe, which will take up\n",
    "        #large amounts of space in memory and is notoriously slow,\n",
    "        #or create a dictionary of the group name as key and the\n",
    "        #chunk array for the value. The latter is better, so\n",
    "        #in each group iteration, we will build an array of chunk\n",
    "        #indices, then make a column in 'data' from the dictionary\n",
    "        #outside the loop for each group name (mmsi).\n",
    "        \n",
    "        if sort:\n",
    "            #sort the group if sort is True\n",
    "            group.sort_values([sort_by])\n",
    "            \n",
    "        if group.shape[0] < per:\n",
    "            #if the group size is less than the per parameter,\n",
    "            #give the group its own chunk index.\n",
    "            group_chunk_table[name] = (np.ones(group.shape[0])*chunk).astype(int)   \n",
    "            chunk += 1\n",
    "            \n",
    "        else:\n",
    "            #for every 'per' rows within the group, \n",
    "            #give it a chunk index. Then increment\n",
    "            #the chunk index.\n",
    "            num_chunks = group.shape[0]//per\n",
    "            remainder = group.shape[0]%per\n",
    "            #chunk_array = np.array([])\n",
    "            for sub_chunk in range(chunk, chunk + num_chunks):\n",
    "                group_chunk_table[name] = np.concatenate((group_chunk_table[name], \n",
    "                                             np.ones(per)*sub_chunk)).astype(int)\n",
    "            \n",
    "            if remainder:\n",
    "                #include the remainders in the final chunk.\n",
    "                #Thus, the final chunk will be of length\n",
    "                #per + remainder.\n",
    "                group_chunk_table[name] = np.concatenate((group_chunk_table[name], \n",
    "                                             np.ones(remainder)*chunk+num_chunks)).astype(int)\n",
    "                \n",
    "            #increment chunks by the number of chunks \n",
    "            #we covered in this group.\n",
    "            chunk = chunk + num_chunks + 1\n",
    "    \n",
    "    #create the chunk column. Use the key in the 'group_chunks_table'\n",
    "    #to determine where the corresponding list should go.\n",
    "    data[\"chunk\"] = -1\n",
    "    for key, arr in group_chunk_table.items():\n",
    "        data[\"chunk\"].loc[data[group_by]==key] = arr\n",
    "\n",
    "    #now that the chunks have been created, we will make the \n",
    "    #train, validation, and test sets. This is done by randomly \n",
    "    #choosing integers from the range (0, chunk + 1). For example\n",
    "    #a random 20% of the integers from this array will be the test\n",
    "    #set chunks, a random 20% will be the validation set chunks, and\n",
    "    #the remaining 60% will be the training set chunks. This will\n",
    "    #be designed to create many folds too.\n",
    "\n",
    "    #create an array for range (0, chunk + 1) and randomly shuffle it.\n",
    "    random_samp = np.arange(0, chunk + 1)\n",
    "    random.shuffle(random_samp)\n",
    "    \n",
    "    #get test indices\n",
    "    max_index_test = int(len(random_samp)//(1.0/test_proportion))\n",
    "    test_indices = random_samp[:max_index_test]\n",
    "    train_indices = random_samp[max_index_test:]\n",
    "    \n",
    "    #make test dataset. \n",
    "    #Create a boolean index for quick creation using boolean indexing.\n",
    "    test_data = data[np.in1d(data[\"chunk\"].values, test_indices)]\n",
    "\n",
    "    #make train dataset.\n",
    "    #Create a boolean index for quick creation using boolean indexing.\n",
    "    train_data = data[np.in1d(data[\"chunk\"].values, train_indices)]\n",
    "    \n",
    "    #Create folds within train_data.\n",
    "    fold_indices = np.array_split(train_indices, folds)\n",
    "    train_data[\"fold\"] = 0\n",
    "    for fold_num, arr in enumerate(fold_indices, 1):\n",
    "        train_data[\"fold\"].loc[np.in1d(train_data[\"chunk\"].values, arr)] = fold_num\n",
    "        \n",
    "    #return the train_data and test_data\n",
    "    return train_data, test_data     "
   ]
  },
  {
   "cell_type": "code",
   "execution_count": 490,
   "metadata": {
    "scrolled": false
   },
   "outputs": [
    {
     "name": "stderr",
     "output_type": "stream",
     "text": [
      "/home/jonathan/Software/anaconda3/envs/gfw_env/lib/python3.9/site-packages/pandas/core/indexing.py:1732: SettingWithCopyWarning: \n",
      "A value is trying to be set on a copy of a slice from a DataFrame\n",
      "\n",
      "See the caveats in the documentation: https://pandas.pydata.org/pandas-docs/stable/user_guide/indexing.html#returning-a-view-versus-a-copy\n",
      "  self._setitem_single_block(indexer, value, name)\n",
      "/tmp/ipykernel_2814/3319838629.py:90: SettingWithCopyWarning: \n",
      "A value is trying to be set on a copy of a slice from a DataFrame.\n",
      "Try using .loc[row_indexer,col_indexer] = value instead\n",
      "\n",
      "See the caveats in the documentation: https://pandas.pydata.org/pandas-docs/stable/user_guide/indexing.html#returning-a-view-versus-a-copy\n",
      "  train_data[\"fold\"] = 0\n"
     ]
    }
   ],
   "source": [
    "training_data, test_data = TrainValidTest(cv_full)"
   ]
  },
  {
   "cell_type": "markdown",
   "metadata": {},
   "source": [
    "The course variable captures instantaneous direction of the vessel. One of the goals of the moving average variable that will be engineered is to capture how much a boat is turning on its path. Meerly looking at the change in instantaneous course will not capture this. To understand why, consider a boat that is bearing 360 degrees (North) at one broadcast, 360 degrees (North) at another broadcast, and finally 360 degrees (North) at a third broadcast. In this case, the boat has been on the same course and seems to be travelling in one direction. However, in reality, the boat may have broadcasted from three locations that form a zig-zag  path if connected. Capturing this zig-zag is a better indicator of the boat's turning rate. Thus, we must measure the angle formed by the path between the first and third locations and calculate angular velocity (angle divided by time between broadcasts) to get a good idea of how much the boat is turning."
   ]
  },
  {
   "cell_type": "markdown",
   "metadata": {},
   "source": [
    "One may be concerned with calculating vectors and projecting a sphere onto a plane using the mercator projection. However, we are merely calculating the angle between vectors on a plane, so the change in length of the vectors after projection should not affect the angular velocity calculation."
   ]
  },
  {
   "cell_type": "markdown",
   "metadata": {},
   "source": [
    "The implementation of the custom transformers can be found in a separate file. All transformer classes are imported below along with the scikit-learn Pipeline class"
   ]
  },
  {
   "cell_type": "code",
   "execution_count": 491,
   "metadata": {},
   "outputs": [],
   "source": [
    "from sklearn.pipeline import Pipeline\n",
    "from sklearn.compose import ColumnTransformer\n",
    "\n",
    "from sklearn.preprocessing import StandardScaler, OneHotEncoder\n",
    "from sklearn.impute import SimpleImputer\n",
    "import PandasSimpleImputer\n",
    "import PandasStandardScaler\n",
    "import PandasOneHotEncoder\n",
    "import time_series\n",
    "\n",
    "from sklearn.linear_model import LogisticRegression\n",
    "from sklearn.ensemble import RandomForestClassifier\n",
    "from sklearn.base import BaseEstimator, TransformerMixin\n",
    "from sklearn.metrics import mean_squared_error, accuracy_score, confusion_matrix, ConfusionMatrixDisplay, classification_report, roc_auc_score"
   ]
  },
  {
   "cell_type": "markdown",
   "metadata": {},
   "source": [
    "Below is a class that creates the angular velocity variable."
   ]
  },
  {
   "cell_type": "code",
   "execution_count": 492,
   "metadata": {},
   "outputs": [],
   "source": [
    "#Class that creates an angular velocity time dependent feature.\n",
    "#Designed to be compatible with scikit-learn pipeline objects.\n",
    "\n",
    "class AngularVelocity(BaseEstimator, TransformerMixin):\n",
    "    def __init__(self, groupby_var, x_cor_var, y_cor_var, timestamp_var):\n",
    "        self.groupby_var = groupby_var\n",
    "        self.x_cor = x_cor_var\n",
    "        self.y_cor = y_cor_var\n",
    "        self.timestamp_var = timestamp_var\n",
    "    def fit(self, X, y=None):\n",
    "        return self\n",
    "    def transform(self, X):\n",
    "        X[['x_one_ago', 'y_one_ago']] = X.groupby(self.groupby_var)[[self.x_cor, self.y_cor]].shift(1)\n",
    "        \n",
    "        X[['x_two_ago', 'y_two_ago', 'time_two_ago']] = X.groupby(self.groupby_var)[[self.x_cor, self.y_cor, self.timestamp_var]].shift(2)\n",
    "        \n",
    "        X['Moving_Angle'] = X.apply(lambda row : time_series.angle(np.array([row['x_one_ago'] - row['x_two_ago'], \n",
    "                                    row['y_one_ago'] - row['y_two_ago']]), np.array([row[self.x_cor] - row['x_one_ago'], \n",
    "                                    row[self.y_cor] - row['y_one_ago']])) if pd.notnull(row).all() else 0.0, axis=1)  \n",
    "        \n",
    "        X['Angular_Velocity'] = X[['Moving_Angle', self.timestamp_var, 'time_two_ago']].apply(\n",
    "            lambda row : time_series.angular_velocity(row['Moving_Angle'], row[self.timestamp_var], row['time_two_ago']), axis=1)\n",
    "        \n",
    "        return X    "
   ]
  },
  {
   "cell_type": "markdown",
   "metadata": {},
   "source": [
    "Apply this to the training and test set within in each chunk. "
   ]
  },
  {
   "cell_type": "code",
   "execution_count": 493,
   "metadata": {},
   "outputs": [
    {
     "name": "stderr",
     "output_type": "stream",
     "text": [
      "/home/jonathan/Software/anaconda3/envs/gfw_env/lib/python3.9/site-packages/pandas/core/frame.py:3641: SettingWithCopyWarning: \n",
      "A value is trying to be set on a copy of a slice from a DataFrame.\n",
      "Try using .loc[row_indexer,col_indexer] = value instead\n",
      "\n",
      "See the caveats in the documentation: https://pandas.pydata.org/pandas-docs/stable/user_guide/indexing.html#returning-a-view-versus-a-copy\n",
      "  self[k1] = value[k2]\n",
      "/home/jonathan/Documents/Py_Projects/gfw_proj/time_series.py:11: RuntimeWarning: invalid value encountered in arccos\n",
      "  return np.arccos((np.dot(v1, v2))/(norm_v1*norm_v2))\n",
      "/home/jonathan/Documents/Py_Projects/gfw_proj/time_series.py:11: RuntimeWarning: invalid value encountered in double_scalars\n",
      "  return np.arccos((np.dot(v1, v2))/(norm_v1*norm_v2))\n",
      "/tmp/ipykernel_2814/809524949.py:17: SettingWithCopyWarning: \n",
      "A value is trying to be set on a copy of a slice from a DataFrame.\n",
      "Try using .loc[row_indexer,col_indexer] = value instead\n",
      "\n",
      "See the caveats in the documentation: https://pandas.pydata.org/pandas-docs/stable/user_guide/indexing.html#returning-a-view-versus-a-copy\n",
      "  X['Moving_Angle'] = X.apply(lambda row : time_series.angle(np.array([row['x_one_ago'] - row['x_two_ago'],\n",
      "/tmp/ipykernel_2814/809524949.py:21: SettingWithCopyWarning: \n",
      "A value is trying to be set on a copy of a slice from a DataFrame.\n",
      "Try using .loc[row_indexer,col_indexer] = value instead\n",
      "\n",
      "See the caveats in the documentation: https://pandas.pydata.org/pandas-docs/stable/user_guide/indexing.html#returning-a-view-versus-a-copy\n",
      "  X['Angular_Velocity'] = X[['Moving_Angle', self.timestamp_var, 'time_two_ago']].apply(\n"
     ]
    },
    {
     "data": {
      "text/html": [
       "<div>\n",
       "<style scoped>\n",
       "    .dataframe tbody tr th:only-of-type {\n",
       "        vertical-align: middle;\n",
       "    }\n",
       "\n",
       "    .dataframe tbody tr th {\n",
       "        vertical-align: top;\n",
       "    }\n",
       "\n",
       "    .dataframe thead th {\n",
       "        text-align: right;\n",
       "    }\n",
       "</style>\n",
       "<table border=\"1\" class=\"dataframe\">\n",
       "  <thead>\n",
       "    <tr style=\"text-align: right;\">\n",
       "      <th></th>\n",
       "      <th>index</th>\n",
       "      <th>mmsi</th>\n",
       "      <th>timestamp</th>\n",
       "      <th>distance_from_shore</th>\n",
       "      <th>distance_from_port</th>\n",
       "      <th>speed</th>\n",
       "      <th>course</th>\n",
       "      <th>lat</th>\n",
       "      <th>lon</th>\n",
       "      <th>is_fishing</th>\n",
       "      <th>...</th>\n",
       "      <th>Mercator_x</th>\n",
       "      <th>Mercator_y</th>\n",
       "      <th>chunk</th>\n",
       "      <th>x_one_ago</th>\n",
       "      <th>y_one_ago</th>\n",
       "      <th>x_two_ago</th>\n",
       "      <th>y_two_ago</th>\n",
       "      <th>time_two_ago</th>\n",
       "      <th>Moving_Angle</th>\n",
       "      <th>Angular_Velocity</th>\n",
       "    </tr>\n",
       "  </thead>\n",
       "  <tbody>\n",
       "    <tr>\n",
       "      <th>217937</th>\n",
       "      <td>14026768</td>\n",
       "      <td>1.252340e+12</td>\n",
       "      <td>1.420241e+09</td>\n",
       "      <td>0.00000</td>\n",
       "      <td>0.0000</td>\n",
       "      <td>0.0</td>\n",
       "      <td>335.000000</td>\n",
       "      <td>52.458649</td>\n",
       "      <td>4.581333</td>\n",
       "      <td>0.0</td>\n",
       "      <td>...</td>\n",
       "      <td>5.873240e+06</td>\n",
       "      <td>7.383374e+05</td>\n",
       "      <td>2</td>\n",
       "      <td>NaN</td>\n",
       "      <td>NaN</td>\n",
       "      <td>NaN</td>\n",
       "      <td>NaN</td>\n",
       "      <td>NaN</td>\n",
       "      <td>0.000000</td>\n",
       "      <td>NaN</td>\n",
       "    </tr>\n",
       "    <tr>\n",
       "      <th>217938</th>\n",
       "      <td>14026769</td>\n",
       "      <td>1.252340e+12</td>\n",
       "      <td>1.420242e+09</td>\n",
       "      <td>0.00000</td>\n",
       "      <td>0.0000</td>\n",
       "      <td>0.0</td>\n",
       "      <td>335.000000</td>\n",
       "      <td>52.458618</td>\n",
       "      <td>4.581316</td>\n",
       "      <td>0.0</td>\n",
       "      <td>...</td>\n",
       "      <td>5.873236e+06</td>\n",
       "      <td>7.383358e+05</td>\n",
       "      <td>2</td>\n",
       "      <td>5.873240e+06</td>\n",
       "      <td>7.383374e+05</td>\n",
       "      <td>NaN</td>\n",
       "      <td>NaN</td>\n",
       "      <td>NaN</td>\n",
       "      <td>0.000000</td>\n",
       "      <td>NaN</td>\n",
       "    </tr>\n",
       "    <tr>\n",
       "      <th>217939</th>\n",
       "      <td>14026770</td>\n",
       "      <td>1.252340e+12</td>\n",
       "      <td>1.420243e+09</td>\n",
       "      <td>0.00000</td>\n",
       "      <td>0.0000</td>\n",
       "      <td>0.0</td>\n",
       "      <td>335.000000</td>\n",
       "      <td>52.458618</td>\n",
       "      <td>4.581316</td>\n",
       "      <td>0.0</td>\n",
       "      <td>...</td>\n",
       "      <td>5.873236e+06</td>\n",
       "      <td>7.383358e+05</td>\n",
       "      <td>2</td>\n",
       "      <td>5.873236e+06</td>\n",
       "      <td>7.383358e+05</td>\n",
       "      <td>5.873240e+06</td>\n",
       "      <td>7.383374e+05</td>\n",
       "      <td>1.420241e+09</td>\n",
       "      <td>0.000000</td>\n",
       "      <td>-0.000000</td>\n",
       "    </tr>\n",
       "    <tr>\n",
       "      <th>217940</th>\n",
       "      <td>14026771</td>\n",
       "      <td>1.252340e+12</td>\n",
       "      <td>1.420244e+09</td>\n",
       "      <td>0.00000</td>\n",
       "      <td>0.0000</td>\n",
       "      <td>0.0</td>\n",
       "      <td>335.000000</td>\n",
       "      <td>52.458618</td>\n",
       "      <td>4.581316</td>\n",
       "      <td>0.0</td>\n",
       "      <td>...</td>\n",
       "      <td>5.873236e+06</td>\n",
       "      <td>7.383358e+05</td>\n",
       "      <td>2</td>\n",
       "      <td>5.873236e+06</td>\n",
       "      <td>7.383358e+05</td>\n",
       "      <td>5.873236e+06</td>\n",
       "      <td>7.383358e+05</td>\n",
       "      <td>1.420242e+09</td>\n",
       "      <td>0.000000</td>\n",
       "      <td>-0.000000</td>\n",
       "    </tr>\n",
       "    <tr>\n",
       "      <th>217941</th>\n",
       "      <td>14026772</td>\n",
       "      <td>1.252340e+12</td>\n",
       "      <td>1.420245e+09</td>\n",
       "      <td>0.00000</td>\n",
       "      <td>0.0000</td>\n",
       "      <td>0.0</td>\n",
       "      <td>335.000000</td>\n",
       "      <td>52.458599</td>\n",
       "      <td>4.581316</td>\n",
       "      <td>0.0</td>\n",
       "      <td>...</td>\n",
       "      <td>5.873234e+06</td>\n",
       "      <td>7.383355e+05</td>\n",
       "      <td>2</td>\n",
       "      <td>5.873236e+06</td>\n",
       "      <td>7.383358e+05</td>\n",
       "      <td>5.873236e+06</td>\n",
       "      <td>7.383358e+05</td>\n",
       "      <td>1.420243e+09</td>\n",
       "      <td>0.000000</td>\n",
       "      <td>-0.000000</td>\n",
       "    </tr>\n",
       "    <tr>\n",
       "      <th>...</th>\n",
       "      <td>...</td>\n",
       "      <td>...</td>\n",
       "      <td>...</td>\n",
       "      <td>...</td>\n",
       "      <td>...</td>\n",
       "      <td>...</td>\n",
       "      <td>...</td>\n",
       "      <td>...</td>\n",
       "      <td>...</td>\n",
       "      <td>...</td>\n",
       "      <td>...</td>\n",
       "      <td>...</td>\n",
       "      <td>...</td>\n",
       "      <td>...</td>\n",
       "      <td>...</td>\n",
       "      <td>...</td>\n",
       "      <td>...</td>\n",
       "      <td>...</td>\n",
       "      <td>...</td>\n",
       "      <td>...</td>\n",
       "      <td>...</td>\n",
       "    </tr>\n",
       "    <tr>\n",
       "      <th>217477</th>\n",
       "      <td>13875859</td>\n",
       "      <td>2.812058e+14</td>\n",
       "      <td>1.419424e+09</td>\n",
       "      <td>403486.06250</td>\n",
       "      <td>473074.0000</td>\n",
       "      <td>11.1</td>\n",
       "      <td>259.100006</td>\n",
       "      <td>14.367633</td>\n",
       "      <td>-28.358467</td>\n",
       "      <td>1.0</td>\n",
       "      <td>...</td>\n",
       "      <td>2.178779e+06</td>\n",
       "      <td>-3.733209e+06</td>\n",
       "      <td>4005</td>\n",
       "      <td>2.178766e+06</td>\n",
       "      <td>-3.732743e+06</td>\n",
       "      <td>2.178764e+06</td>\n",
       "      <td>-3.732680e+06</td>\n",
       "      <td>1.419424e+09</td>\n",
       "      <td>0.009879</td>\n",
       "      <td>-0.000143</td>\n",
       "    </tr>\n",
       "    <tr>\n",
       "      <th>217478</th>\n",
       "      <td>13875860</td>\n",
       "      <td>2.812058e+14</td>\n",
       "      <td>1.419424e+09</td>\n",
       "      <td>403486.06250</td>\n",
       "      <td>473074.0000</td>\n",
       "      <td>11.1</td>\n",
       "      <td>258.500000</td>\n",
       "      <td>14.367117</td>\n",
       "      <td>-28.361084</td>\n",
       "      <td>1.0</td>\n",
       "      <td>...</td>\n",
       "      <td>2.178794e+06</td>\n",
       "      <td>-3.733600e+06</td>\n",
       "      <td>4005</td>\n",
       "      <td>2.178779e+06</td>\n",
       "      <td>-3.733209e+06</td>\n",
       "      <td>2.178766e+06</td>\n",
       "      <td>-3.732743e+06</td>\n",
       "      <td>1.419424e+09</td>\n",
       "      <td>0.011354</td>\n",
       "      <td>-0.000103</td>\n",
       "    </tr>\n",
       "    <tr>\n",
       "      <th>217479</th>\n",
       "      <td>13875861</td>\n",
       "      <td>2.812058e+14</td>\n",
       "      <td>1.419424e+09</td>\n",
       "      <td>404477.40625</td>\n",
       "      <td>473862.8125</td>\n",
       "      <td>11.0</td>\n",
       "      <td>257.299988</td>\n",
       "      <td>14.366900</td>\n",
       "      <td>-28.362116</td>\n",
       "      <td>1.0</td>\n",
       "      <td>...</td>\n",
       "      <td>2.178798e+06</td>\n",
       "      <td>-3.733755e+06</td>\n",
       "      <td>4005</td>\n",
       "      <td>2.178794e+06</td>\n",
       "      <td>-3.733600e+06</td>\n",
       "      <td>2.178779e+06</td>\n",
       "      <td>-3.733209e+06</td>\n",
       "      <td>1.419424e+09</td>\n",
       "      <td>0.012415</td>\n",
       "      <td>-0.000177</td>\n",
       "    </tr>\n",
       "    <tr>\n",
       "      <th>217480</th>\n",
       "      <td>13875862</td>\n",
       "      <td>2.812058e+14</td>\n",
       "      <td>1.419424e+09</td>\n",
       "      <td>404477.40625</td>\n",
       "      <td>473862.8125</td>\n",
       "      <td>11.1</td>\n",
       "      <td>259.100006</td>\n",
       "      <td>14.366800</td>\n",
       "      <td>-28.362633</td>\n",
       "      <td>1.0</td>\n",
       "      <td>...</td>\n",
       "      <td>2.178801e+06</td>\n",
       "      <td>-3.733832e+06</td>\n",
       "      <td>4005</td>\n",
       "      <td>2.178798e+06</td>\n",
       "      <td>-3.733755e+06</td>\n",
       "      <td>2.178794e+06</td>\n",
       "      <td>-3.733600e+06</td>\n",
       "      <td>1.419424e+09</td>\n",
       "      <td>0.015811</td>\n",
       "      <td>-0.000527</td>\n",
       "    </tr>\n",
       "    <tr>\n",
       "      <th>217481</th>\n",
       "      <td>13875863</td>\n",
       "      <td>2.812058e+14</td>\n",
       "      <td>1.419424e+09</td>\n",
       "      <td>404477.40625</td>\n",
       "      <td>473862.8125</td>\n",
       "      <td>11.1</td>\n",
       "      <td>258.899994</td>\n",
       "      <td>14.366700</td>\n",
       "      <td>-28.363199</td>\n",
       "      <td>1.0</td>\n",
       "      <td>...</td>\n",
       "      <td>2.178806e+06</td>\n",
       "      <td>-3.733916e+06</td>\n",
       "      <td>4005</td>\n",
       "      <td>2.178801e+06</td>\n",
       "      <td>-3.733832e+06</td>\n",
       "      <td>2.178798e+06</td>\n",
       "      <td>-3.733755e+06</td>\n",
       "      <td>1.419424e+09</td>\n",
       "      <td>0.016793</td>\n",
       "      <td>-0.000840</td>\n",
       "    </tr>\n",
       "  </tbody>\n",
       "</table>\n",
       "<p>78522 rows × 23 columns</p>\n",
       "</div>"
      ],
      "text/plain": [
       "           index          mmsi     timestamp  distance_from_shore  \\\n",
       "217937  14026768  1.252340e+12  1.420241e+09              0.00000   \n",
       "217938  14026769  1.252340e+12  1.420242e+09              0.00000   \n",
       "217939  14026770  1.252340e+12  1.420243e+09              0.00000   \n",
       "217940  14026771  1.252340e+12  1.420244e+09              0.00000   \n",
       "217941  14026772  1.252340e+12  1.420245e+09              0.00000   \n",
       "...          ...           ...           ...                  ...   \n",
       "217477  13875859  2.812058e+14  1.419424e+09         403486.06250   \n",
       "217478  13875860  2.812058e+14  1.419424e+09         403486.06250   \n",
       "217479  13875861  2.812058e+14  1.419424e+09         404477.40625   \n",
       "217480  13875862  2.812058e+14  1.419424e+09         404477.40625   \n",
       "217481  13875863  2.812058e+14  1.419424e+09         404477.40625   \n",
       "\n",
       "        distance_from_port  speed      course        lat        lon  \\\n",
       "217937              0.0000    0.0  335.000000  52.458649   4.581333   \n",
       "217938              0.0000    0.0  335.000000  52.458618   4.581316   \n",
       "217939              0.0000    0.0  335.000000  52.458618   4.581316   \n",
       "217940              0.0000    0.0  335.000000  52.458618   4.581316   \n",
       "217941              0.0000    0.0  335.000000  52.458599   4.581316   \n",
       "...                    ...    ...         ...        ...        ...   \n",
       "217477         473074.0000   11.1  259.100006  14.367633 -28.358467   \n",
       "217478         473074.0000   11.1  258.500000  14.367117 -28.361084   \n",
       "217479         473862.8125   11.0  257.299988  14.366900 -28.362116   \n",
       "217480         473862.8125   11.1  259.100006  14.366800 -28.362633   \n",
       "217481         473862.8125   11.1  258.899994  14.366700 -28.363199   \n",
       "\n",
       "        is_fishing  ...    Mercator_x    Mercator_y  chunk     x_one_ago  \\\n",
       "217937         0.0  ...  5.873240e+06  7.383374e+05      2           NaN   \n",
       "217938         0.0  ...  5.873236e+06  7.383358e+05      2  5.873240e+06   \n",
       "217939         0.0  ...  5.873236e+06  7.383358e+05      2  5.873236e+06   \n",
       "217940         0.0  ...  5.873236e+06  7.383358e+05      2  5.873236e+06   \n",
       "217941         0.0  ...  5.873234e+06  7.383355e+05      2  5.873236e+06   \n",
       "...            ...  ...           ...           ...    ...           ...   \n",
       "217477         1.0  ...  2.178779e+06 -3.733209e+06   4005  2.178766e+06   \n",
       "217478         1.0  ...  2.178794e+06 -3.733600e+06   4005  2.178779e+06   \n",
       "217479         1.0  ...  2.178798e+06 -3.733755e+06   4005  2.178794e+06   \n",
       "217480         1.0  ...  2.178801e+06 -3.733832e+06   4005  2.178798e+06   \n",
       "217481         1.0  ...  2.178806e+06 -3.733916e+06   4005  2.178801e+06   \n",
       "\n",
       "           y_one_ago     x_two_ago     y_two_ago  time_two_ago  Moving_Angle  \\\n",
       "217937           NaN           NaN           NaN           NaN      0.000000   \n",
       "217938  7.383374e+05           NaN           NaN           NaN      0.000000   \n",
       "217939  7.383358e+05  5.873240e+06  7.383374e+05  1.420241e+09      0.000000   \n",
       "217940  7.383358e+05  5.873236e+06  7.383358e+05  1.420242e+09      0.000000   \n",
       "217941  7.383358e+05  5.873236e+06  7.383358e+05  1.420243e+09      0.000000   \n",
       "...              ...           ...           ...           ...           ...   \n",
       "217477 -3.732743e+06  2.178764e+06 -3.732680e+06  1.419424e+09      0.009879   \n",
       "217478 -3.733209e+06  2.178766e+06 -3.732743e+06  1.419424e+09      0.011354   \n",
       "217479 -3.733600e+06  2.178779e+06 -3.733209e+06  1.419424e+09      0.012415   \n",
       "217480 -3.733755e+06  2.178794e+06 -3.733600e+06  1.419424e+09      0.015811   \n",
       "217481 -3.733832e+06  2.178798e+06 -3.733755e+06  1.419424e+09      0.016793   \n",
       "\n",
       "        Angular_Velocity  \n",
       "217937               NaN  \n",
       "217938               NaN  \n",
       "217939         -0.000000  \n",
       "217940         -0.000000  \n",
       "217941         -0.000000  \n",
       "...                  ...  \n",
       "217477         -0.000143  \n",
       "217478         -0.000103  \n",
       "217479         -0.000177  \n",
       "217480         -0.000527  \n",
       "217481         -0.000840  \n",
       "\n",
       "[78522 rows x 23 columns]"
      ]
     },
     "execution_count": 493,
     "metadata": {},
     "output_type": "execute_result"
    }
   ],
   "source": [
    "ang_vel = AngularVelocity('chunk', 'Mercator_x', 'Mercator_y', 'timestamp')\n",
    "ang_vel.fit_transform(training_data)\n",
    "ang_vel.fit_transform(test_data)"
   ]
  },
  {
   "cell_type": "markdown",
   "metadata": {},
   "source": [
    "Below is a class that creates the exponential moving average variable."
   ]
  },
  {
   "cell_type": "code",
   "execution_count": 494,
   "metadata": {},
   "outputs": [],
   "source": [
    "#Class that creates an an exponential moving average feature for angular velocity on each distinct mmsi in the dataset. \n",
    "#Designed to be compatible with scikit-learn pipeline objects.\n",
    "\n",
    "class ExponentialMoving(BaseEstimator, TransformerMixin):\n",
    "    def __init__(self, groupby_var, alpha = 0.5):\n",
    "        #Initialize alpha decay for exponential moving average.\n",
    "        #Will tune this hyperparameter in cross validation.\n",
    "        self.alpha = alpha\n",
    "        self.groupby_var = groupby_var\n",
    "    def fit(self, X, y=None):\n",
    "        return self\n",
    "    def transform(self, X):\n",
    "        #Use an exponentially weighted mean window function provided as\n",
    "        #a member function for pandas dataframes.\n",
    "        X['EWA_AngularVel'] = X.groupby(self.groupby_var)['Angular_Velocity'].transform(\n",
    "            lambda x : x.ewm(alpha = self.alpha).mean())/home/jonathan/Documents/Py_Projects/gfw_proj/models\n",
    "\n",
    "        return X"
   ]
  },
  {
   "cell_type": "markdown",
   "metadata": {},
   "source": [
    "Apply this to the training and test set within each chunk."
   ]
  },
  {
   "cell_type": "code",
   "execution_count": 495,
   "metadata": {},
   "outputs": [
    {
     "name": "stderr",
     "output_type": "stream",
     "text": [
      "/tmp/ipykernel_2814/1501281165.py:15: SettingWithCopyWarning: \n",
      "A value is trying to be set on a copy of a slice from a DataFrame.\n",
      "Try using .loc[row_indexer,col_indexer] = value instead\n",
      "\n",
      "See the caveats in the documentation: https://pandas.pydata.org/pandas-docs/stable/user_guide/indexing.html#returning-a-view-versus-a-copy\n",
      "  X['EWA_AngularVel'] = X.groupby(self.groupby_var)['Angular_Velocity'].transform(\n"
     ]
    },
    {
     "data": {
      "text/html": [
       "<div>\n",
       "<style scoped>\n",
       "    .dataframe tbody tr th:only-of-type {\n",
       "        vertical-align: middle;\n",
       "    }\n",
       "\n",
       "    .dataframe tbody tr th {\n",
       "        vertical-align: top;\n",
       "    }\n",
       "\n",
       "    .dataframe thead th {\n",
       "        text-align: right;\n",
       "    }\n",
       "</style>\n",
       "<table border=\"1\" class=\"dataframe\">\n",
       "  <thead>\n",
       "    <tr style=\"text-align: right;\">\n",
       "      <th></th>\n",
       "      <th>index</th>\n",
       "      <th>mmsi</th>\n",
       "      <th>timestamp</th>\n",
       "      <th>distance_from_shore</th>\n",
       "      <th>distance_from_port</th>\n",
       "      <th>speed</th>\n",
       "      <th>course</th>\n",
       "      <th>lat</th>\n",
       "      <th>lon</th>\n",
       "      <th>is_fishing</th>\n",
       "      <th>...</th>\n",
       "      <th>Mercator_y</th>\n",
       "      <th>chunk</th>\n",
       "      <th>x_one_ago</th>\n",
       "      <th>y_one_ago</th>\n",
       "      <th>x_two_ago</th>\n",
       "      <th>y_two_ago</th>\n",
       "      <th>time_two_ago</th>\n",
       "      <th>Moving_Angle</th>\n",
       "      <th>Angular_Velocity</th>\n",
       "      <th>EWA_AngularVel</th>\n",
       "    </tr>\n",
       "  </thead>\n",
       "  <tbody>\n",
       "    <tr>\n",
       "      <th>217937</th>\n",
       "      <td>14026768</td>\n",
       "      <td>1.252340e+12</td>\n",
       "      <td>1.420241e+09</td>\n",
       "      <td>0.00000</td>\n",
       "      <td>0.0000</td>\n",
       "      <td>0.0</td>\n",
       "      <td>335.000000</td>\n",
       "      <td>52.458649</td>\n",
       "      <td>4.581333</td>\n",
       "      <td>0.0</td>\n",
       "      <td>...</td>\n",
       "      <td>7.383374e+05</td>\n",
       "      <td>2</td>\n",
       "      <td>NaN</td>\n",
       "      <td>NaN</td>\n",
       "      <td>NaN</td>\n",
       "      <td>NaN</td>\n",
       "      <td>NaN</td>\n",
       "      <td>0.000000</td>\n",
       "      <td>NaN</td>\n",
       "      <td>NaN</td>\n",
       "    </tr>\n",
       "    <tr>\n",
       "      <th>217938</th>\n",
       "      <td>14026769</td>\n",
       "      <td>1.252340e+12</td>\n",
       "      <td>1.420242e+09</td>\n",
       "      <td>0.00000</td>\n",
       "      <td>0.0000</td>\n",
       "      <td>0.0</td>\n",
       "      <td>335.000000</td>\n",
       "      <td>52.458618</td>\n",
       "      <td>4.581316</td>\n",
       "      <td>0.0</td>\n",
       "      <td>...</td>\n",
       "      <td>7.383358e+05</td>\n",
       "      <td>2</td>\n",
       "      <td>5.873240e+06</td>\n",
       "      <td>7.383374e+05</td>\n",
       "      <td>NaN</td>\n",
       "      <td>NaN</td>\n",
       "      <td>NaN</td>\n",
       "      <td>0.000000</td>\n",
       "      <td>NaN</td>\n",
       "      <td>NaN</td>\n",
       "    </tr>\n",
       "    <tr>\n",
       "      <th>217939</th>\n",
       "      <td>14026770</td>\n",
       "      <td>1.252340e+12</td>\n",
       "      <td>1.420243e+09</td>\n",
       "      <td>0.00000</td>\n",
       "      <td>0.0000</td>\n",
       "      <td>0.0</td>\n",
       "      <td>335.000000</td>\n",
       "      <td>52.458618</td>\n",
       "      <td>4.581316</td>\n",
       "      <td>0.0</td>\n",
       "      <td>...</td>\n",
       "      <td>7.383358e+05</td>\n",
       "      <td>2</td>\n",
       "      <td>5.873236e+06</td>\n",
       "      <td>7.383358e+05</td>\n",
       "      <td>5.873240e+06</td>\n",
       "      <td>7.383374e+05</td>\n",
       "      <td>1.420241e+09</td>\n",
       "      <td>0.000000</td>\n",
       "      <td>-0.000000</td>\n",
       "      <td>-0.000000</td>\n",
       "    </tr>\n",
       "    <tr>\n",
       "      <th>217940</th>\n",
       "      <td>14026771</td>\n",
       "      <td>1.252340e+12</td>\n",
       "      <td>1.420244e+09</td>\n",
       "      <td>0.00000</td>\n",
       "      <td>0.0000</td>\n",
       "      <td>0.0</td>\n",
       "      <td>335.000000</td>\n",
       "      <td>52.458618</td>\n",
       "      <td>4.581316</td>\n",
       "      <td>0.0</td>\n",
       "      <td>...</td>\n",
       "      <td>7.383358e+05</td>\n",
       "      <td>2</td>\n",
       "      <td>5.873236e+06</td>\n",
       "      <td>7.383358e+05</td>\n",
       "      <td>5.873236e+06</td>\n",
       "      <td>7.383358e+05</td>\n",
       "      <td>1.420242e+09</td>\n",
       "      <td>0.000000</td>\n",
       "      <td>-0.000000</td>\n",
       "      <td>-0.000000</td>\n",
       "    </tr>\n",
       "    <tr>\n",
       "      <th>217941</th>\n",
       "      <td>14026772</td>\n",
       "      <td>1.252340e+12</td>\n",
       "      <td>1.420245e+09</td>\n",
       "      <td>0.00000</td>\n",
       "      <td>0.0000</td>\n",
       "      <td>0.0</td>\n",
       "      <td>335.000000</td>\n",
       "      <td>52.458599</td>\n",
       "      <td>4.581316</td>\n",
       "      <td>0.0</td>\n",
       "      <td>...</td>\n",
       "      <td>7.383355e+05</td>\n",
       "      <td>2</td>\n",
       "      <td>5.873236e+06</td>\n",
       "      <td>7.383358e+05</td>\n",
       "      <td>5.873236e+06</td>\n",
       "      <td>7.383358e+05</td>\n",
       "      <td>1.420243e+09</td>\n",
       "      <td>0.000000</td>\n",
       "      <td>-0.000000</td>\n",
       "      <td>-0.000000</td>\n",
       "    </tr>\n",
       "    <tr>\n",
       "      <th>...</th>\n",
       "      <td>...</td>\n",
       "      <td>...</td>\n",
       "      <td>...</td>\n",
       "      <td>...</td>\n",
       "      <td>...</td>\n",
       "      <td>...</td>\n",
       "      <td>...</td>\n",
       "      <td>...</td>\n",
       "      <td>...</td>\n",
       "      <td>...</td>\n",
       "      <td>...</td>\n",
       "      <td>...</td>\n",
       "      <td>...</td>\n",
       "      <td>...</td>\n",
       "      <td>...</td>\n",
       "      <td>...</td>\n",
       "      <td>...</td>\n",
       "      <td>...</td>\n",
       "      <td>...</td>\n",
       "      <td>...</td>\n",
       "      <td>...</td>\n",
       "    </tr>\n",
       "    <tr>\n",
       "      <th>217477</th>\n",
       "      <td>13875859</td>\n",
       "      <td>2.812058e+14</td>\n",
       "      <td>1.419424e+09</td>\n",
       "      <td>403486.06250</td>\n",
       "      <td>473074.0000</td>\n",
       "      <td>11.1</td>\n",
       "      <td>259.100006</td>\n",
       "      <td>14.367633</td>\n",
       "      <td>-28.358467</td>\n",
       "      <td>1.0</td>\n",
       "      <td>...</td>\n",
       "      <td>-3.733209e+06</td>\n",
       "      <td>4005</td>\n",
       "      <td>2.178766e+06</td>\n",
       "      <td>-3.732743e+06</td>\n",
       "      <td>2.178764e+06</td>\n",
       "      <td>-3.732680e+06</td>\n",
       "      <td>1.419424e+09</td>\n",
       "      <td>0.009879</td>\n",
       "      <td>-0.000143</td>\n",
       "      <td>-0.000100</td>\n",
       "    </tr>\n",
       "    <tr>\n",
       "      <th>217478</th>\n",
       "      <td>13875860</td>\n",
       "      <td>2.812058e+14</td>\n",
       "      <td>1.419424e+09</td>\n",
       "      <td>403486.06250</td>\n",
       "      <td>473074.0000</td>\n",
       "      <td>11.1</td>\n",
       "      <td>258.500000</td>\n",
       "      <td>14.367117</td>\n",
       "      <td>-28.361084</td>\n",
       "      <td>1.0</td>\n",
       "      <td>...</td>\n",
       "      <td>-3.733600e+06</td>\n",
       "      <td>4005</td>\n",
       "      <td>2.178779e+06</td>\n",
       "      <td>-3.733209e+06</td>\n",
       "      <td>2.178766e+06</td>\n",
       "      <td>-3.732743e+06</td>\n",
       "      <td>1.419424e+09</td>\n",
       "      <td>0.011354</td>\n",
       "      <td>-0.000103</td>\n",
       "      <td>-0.000102</td>\n",
       "    </tr>\n",
       "    <tr>\n",
       "      <th>217479</th>\n",
       "      <td>13875861</td>\n",
       "      <td>2.812058e+14</td>\n",
       "      <td>1.419424e+09</td>\n",
       "      <td>404477.40625</td>\n",
       "      <td>473862.8125</td>\n",
       "      <td>11.0</td>\n",
       "      <td>257.299988</td>\n",
       "      <td>14.366900</td>\n",
       "      <td>-28.362116</td>\n",
       "      <td>1.0</td>\n",
       "      <td>...</td>\n",
       "      <td>-3.733755e+06</td>\n",
       "      <td>4005</td>\n",
       "      <td>2.178794e+06</td>\n",
       "      <td>-3.733600e+06</td>\n",
       "      <td>2.178779e+06</td>\n",
       "      <td>-3.733209e+06</td>\n",
       "      <td>1.419424e+09</td>\n",
       "      <td>0.012415</td>\n",
       "      <td>-0.000177</td>\n",
       "      <td>-0.000140</td>\n",
       "    </tr>\n",
       "    <tr>\n",
       "      <th>217480</th>\n",
       "      <td>13875862</td>\n",
       "      <td>2.812058e+14</td>\n",
       "      <td>1.419424e+09</td>\n",
       "      <td>404477.40625</td>\n",
       "      <td>473862.8125</td>\n",
       "      <td>11.1</td>\n",
       "      <td>259.100006</td>\n",
       "      <td>14.366800</td>\n",
       "      <td>-28.362633</td>\n",
       "      <td>1.0</td>\n",
       "      <td>...</td>\n",
       "      <td>-3.733832e+06</td>\n",
       "      <td>4005</td>\n",
       "      <td>2.178798e+06</td>\n",
       "      <td>-3.733755e+06</td>\n",
       "      <td>2.178794e+06</td>\n",
       "      <td>-3.733600e+06</td>\n",
       "      <td>1.419424e+09</td>\n",
       "      <td>0.015811</td>\n",
       "      <td>-0.000527</td>\n",
       "      <td>-0.000333</td>\n",
       "    </tr>\n",
       "    <tr>\n",
       "      <th>217481</th>\n",
       "      <td>13875863</td>\n",
       "      <td>2.812058e+14</td>\n",
       "      <td>1.419424e+09</td>\n",
       "      <td>404477.40625</td>\n",
       "      <td>473862.8125</td>\n",
       "      <td>11.1</td>\n",
       "      <td>258.899994</td>\n",
       "      <td>14.366700</td>\n",
       "      <td>-28.363199</td>\n",
       "      <td>1.0</td>\n",
       "      <td>...</td>\n",
       "      <td>-3.733916e+06</td>\n",
       "      <td>4005</td>\n",
       "      <td>2.178801e+06</td>\n",
       "      <td>-3.733832e+06</td>\n",
       "      <td>2.178798e+06</td>\n",
       "      <td>-3.733755e+06</td>\n",
       "      <td>1.419424e+09</td>\n",
       "      <td>0.016793</td>\n",
       "      <td>-0.000840</td>\n",
       "      <td>-0.000586</td>\n",
       "    </tr>\n",
       "  </tbody>\n",
       "</table>\n",
       "<p>78522 rows × 24 columns</p>\n",
       "</div>"
      ],
      "text/plain": [
       "           index          mmsi     timestamp  distance_from_shore  \\\n",
       "217937  14026768  1.252340e+12  1.420241e+09              0.00000   \n",
       "217938  14026769  1.252340e+12  1.420242e+09              0.00000   \n",
       "217939  14026770  1.252340e+12  1.420243e+09              0.00000   \n",
       "217940  14026771  1.252340e+12  1.420244e+09              0.00000   \n",
       "217941  14026772  1.252340e+12  1.420245e+09              0.00000   \n",
       "...          ...           ...           ...                  ...   \n",
       "217477  13875859  2.812058e+14  1.419424e+09         403486.06250   \n",
       "217478  13875860  2.812058e+14  1.419424e+09         403486.06250   \n",
       "217479  13875861  2.812058e+14  1.419424e+09         404477.40625   \n",
       "217480  13875862  2.812058e+14  1.419424e+09         404477.40625   \n",
       "217481  13875863  2.812058e+14  1.419424e+09         404477.40625   \n",
       "\n",
       "        distance_from_port  speed      course        lat        lon  \\\n",
       "217937              0.0000    0.0  335.000000  52.458649   4.581333   \n",
       "217938              0.0000    0.0  335.000000  52.458618   4.581316   \n",
       "217939              0.0000    0.0  335.000000  52.458618   4.581316   \n",
       "217940              0.0000    0.0  335.000000  52.458618   4.581316   \n",
       "217941              0.0000    0.0  335.000000  52.458599   4.581316   \n",
       "...                    ...    ...         ...        ...        ...   \n",
       "217477         473074.0000   11.1  259.100006  14.367633 -28.358467   \n",
       "217478         473074.0000   11.1  258.500000  14.367117 -28.361084   \n",
       "217479         473862.8125   11.0  257.299988  14.366900 -28.362116   \n",
       "217480         473862.8125   11.1  259.100006  14.366800 -28.362633   \n",
       "217481         473862.8125   11.1  258.899994  14.366700 -28.363199   \n",
       "\n",
       "        is_fishing  ...    Mercator_y chunk     x_one_ago     y_one_ago  \\\n",
       "217937         0.0  ...  7.383374e+05     2           NaN           NaN   \n",
       "217938         0.0  ...  7.383358e+05     2  5.873240e+06  7.383374e+05   \n",
       "217939         0.0  ...  7.383358e+05     2  5.873236e+06  7.383358e+05   \n",
       "217940         0.0  ...  7.383358e+05     2  5.873236e+06  7.383358e+05   \n",
       "217941         0.0  ...  7.383355e+05     2  5.873236e+06  7.383358e+05   \n",
       "...            ...  ...           ...   ...           ...           ...   \n",
       "217477         1.0  ... -3.733209e+06  4005  2.178766e+06 -3.732743e+06   \n",
       "217478         1.0  ... -3.733600e+06  4005  2.178779e+06 -3.733209e+06   \n",
       "217479         1.0  ... -3.733755e+06  4005  2.178794e+06 -3.733600e+06   \n",
       "217480         1.0  ... -3.733832e+06  4005  2.178798e+06 -3.733755e+06   \n",
       "217481         1.0  ... -3.733916e+06  4005  2.178801e+06 -3.733832e+06   \n",
       "\n",
       "           x_two_ago     y_two_ago  time_two_ago  Moving_Angle  \\\n",
       "217937           NaN           NaN           NaN      0.000000   \n",
       "217938           NaN           NaN           NaN      0.000000   \n",
       "217939  5.873240e+06  7.383374e+05  1.420241e+09      0.000000   \n",
       "217940  5.873236e+06  7.383358e+05  1.420242e+09      0.000000   \n",
       "217941  5.873236e+06  7.383358e+05  1.420243e+09      0.000000   \n",
       "...              ...           ...           ...           ...   \n",
       "217477  2.178764e+06 -3.732680e+06  1.419424e+09      0.009879   \n",
       "217478  2.178766e+06 -3.732743e+06  1.419424e+09      0.011354   \n",
       "217479  2.178779e+06 -3.733209e+06  1.419424e+09      0.012415   \n",
       "217480  2.178794e+06 -3.733600e+06  1.419424e+09      0.015811   \n",
       "217481  2.178798e+06 -3.733755e+06  1.419424e+09      0.016793   \n",
       "\n",
       "        Angular_Velocity  EWA_AngularVel  \n",
       "217937               NaN             NaN  \n",
       "217938               NaN             NaN  \n",
       "217939         -0.000000       -0.000000  \n",
       "217940         -0.000000       -0.000000  \n",
       "217941         -0.000000       -0.000000  \n",
       "...                  ...             ...  \n",
       "217477         -0.000143       -0.000100  \n",
       "217478         -0.000103       -0.000102  \n",
       "217479         -0.000177       -0.000140  \n",
       "217480         -0.000527       -0.000333  \n",
       "217481         -0.000840       -0.000586  \n",
       "\n",
       "[78522 rows x 24 columns]"
      ]
     },
     "execution_count": 495,
     "metadata": {},
     "output_type": "execute_result"
    }
   ],
   "source": [
    "exp_mov = ExponentialMoving(\"chunk\")\n",
    "exp_mov.fit_transform(training_data)\n",
    "exp_mov.fit_transform(test_data)"
   ]
  },
  {
   "cell_type": "markdown",
   "metadata": {},
   "source": [
    "Below is a class that creates variables from the timestamp (month, day of week, hour of day)."
   ]
  },
  {
   "cell_type": "code",
   "execution_count": 496,
   "metadata": {},
   "outputs": [],
   "source": [
    "#Class that creates hour of day, day of week, and month of year variables\n",
    "#based on timestamp expressed in seconds.\n",
    "#Designed to be compatible with scikit-learn pipeline objects.\n",
    "from sklearn.base import BaseEstimator, TransformerMixin\n",
    "from tzwhere import tzwhere\n",
    "import pandas as pd\n",
    "\n",
    "class TimestampConversion(BaseEstimator, TransformerMixin):\n",
    "    def __init__(self, timestamp_var, lat_col_name, lon_col_name):\n",
    "        self.timestamp_var = timestamp_var\n",
    "        self.lat_col_name = lat_col_name\n",
    "        self.lon_col_name = lon_col_name\n",
    "        self.tzw = tzwhere.tzwhere()\n",
    "    def fit(self, X, y=None):\n",
    "        return self\n",
    "    def transform(self, X):\n",
    "        try:\n",
    "            X[\"Hour_of_Day\"] = X.apply(self.hour_of_day, axis=1)\n",
    "            X[\"Day_of_Week\"] = X.apply(self.day_of_week, axis=1)\n",
    "            X[\"Month_of_Year\"] = X.apply(self.month_of_year, axis=1)\n",
    "        except KeyError:\n",
    "            print(\"Column to apply TimestampConversion to not found.\\n\")\n",
    "        finally:\n",
    "            return X\n",
    "    def hour_of_day(self, row):\n",
    "        timezone = self.tzw.tzNameAt(row[self.lat_col_name], row[self.lon_col_name])\n",
    "        return pd.Timestamp(row[self.timestamp_var], unit='s', tz=timezone).hour\n",
    "    def day_of_week(self, row):\n",
    "        timezone = self.tzw.tzNameAt(row[self.lat_col_name], row[self.lon_col_name])\n",
    "        return pd.Timestamp(row[self.timestamp_var], unit='s', tz=timezone).dayofweek\n",
    "    def month_of_year(self, row):\n",
    "        timezone = self.tzw.tzNameAt(row[self.lat_col_name], row[self.lon_col_name])\n",
    "        return pd.Timestamp(row[self.timestamp_var], unit='s', tz=timezone).month"
   ]
  },
  {
   "cell_type": "markdown",
   "metadata": {},
   "source": [
    "Apply this to the training and test sets."
   ]
  },
  {
   "cell_type": "code",
   "execution_count": 497,
   "metadata": {
    "scrolled": true
   },
   "outputs": [
    {
     "name": "stderr",
     "output_type": "stream",
     "text": [
      "/home/jonathan/Software/anaconda3/envs/gfw_env/lib/python3.9/site-packages/tzwhere/tzwhere.py:62: VisibleDeprecationWarning: Creating an ndarray from ragged nested sequences (which is a list-or-tuple of lists-or-tuples-or ndarrays with different lengths or shapes) is deprecated. If you meant to do this, you must specify 'dtype=object' when creating the ndarray.\n",
      "  self.timezoneNamesToPolygons[tzname] = WRAP(polys)\n",
      "/tmp/ipykernel_2814/3461232103.py:18: SettingWithCopyWarning: \n",
      "A value is trying to be set on a copy of a slice from a DataFrame.\n",
      "Try using .loc[row_indexer,col_indexer] = value instead\n",
      "\n",
      "See the caveats in the documentation: https://pandas.pydata.org/pandas-docs/stable/user_guide/indexing.html#returning-a-view-versus-a-copy\n",
      "  X[\"Hour_of_Day\"] = X.apply(self.hour_of_day, axis=1)\n",
      "/tmp/ipykernel_2814/3461232103.py:19: SettingWithCopyWarning: \n",
      "A value is trying to be set on a copy of a slice from a DataFrame.\n",
      "Try using .loc[row_indexer,col_indexer] = value instead\n",
      "\n",
      "See the caveats in the documentation: https://pandas.pydata.org/pandas-docs/stable/user_guide/indexing.html#returning-a-view-versus-a-copy\n",
      "  X[\"Day_of_Week\"] = X.apply(self.day_of_week, axis=1)\n",
      "/tmp/ipykernel_2814/3461232103.py:20: SettingWithCopyWarning: \n",
      "A value is trying to be set on a copy of a slice from a DataFrame.\n",
      "Try using .loc[row_indexer,col_indexer] = value instead\n",
      "\n",
      "See the caveats in the documentation: https://pandas.pydata.org/pandas-docs/stable/user_guide/indexing.html#returning-a-view-versus-a-copy\n",
      "  X[\"Month_of_Year\"] = X.apply(self.month_of_year, axis=1)\n"
     ]
    },
    {
     "data": {
      "text/html": [
       "<div>\n",
       "<style scoped>\n",
       "    .dataframe tbody tr th:only-of-type {\n",
       "        vertical-align: middle;\n",
       "    }\n",
       "\n",
       "    .dataframe tbody tr th {\n",
       "        vertical-align: top;\n",
       "    }\n",
       "\n",
       "    .dataframe thead th {\n",
       "        text-align: right;\n",
       "    }\n",
       "</style>\n",
       "<table border=\"1\" class=\"dataframe\">\n",
       "  <thead>\n",
       "    <tr style=\"text-align: right;\">\n",
       "      <th></th>\n",
       "      <th>index</th>\n",
       "      <th>mmsi</th>\n",
       "      <th>timestamp</th>\n",
       "      <th>distance_from_shore</th>\n",
       "      <th>distance_from_port</th>\n",
       "      <th>speed</th>\n",
       "      <th>course</th>\n",
       "      <th>lat</th>\n",
       "      <th>lon</th>\n",
       "      <th>is_fishing</th>\n",
       "      <th>...</th>\n",
       "      <th>y_one_ago</th>\n",
       "      <th>x_two_ago</th>\n",
       "      <th>y_two_ago</th>\n",
       "      <th>time_two_ago</th>\n",
       "      <th>Moving_Angle</th>\n",
       "      <th>Angular_Velocity</th>\n",
       "      <th>EWA_AngularVel</th>\n",
       "      <th>Hour_of_Day</th>\n",
       "      <th>Day_of_Week</th>\n",
       "      <th>Month_of_Year</th>\n",
       "    </tr>\n",
       "  </thead>\n",
       "  <tbody>\n",
       "    <tr>\n",
       "      <th>217937</th>\n",
       "      <td>14026768</td>\n",
       "      <td>1.252340e+12</td>\n",
       "      <td>1.420241e+09</td>\n",
       "      <td>0.00000</td>\n",
       "      <td>0.0000</td>\n",
       "      <td>0.0</td>\n",
       "      <td>335.000000</td>\n",
       "      <td>52.458649</td>\n",
       "      <td>4.581333</td>\n",
       "      <td>0.0</td>\n",
       "      <td>...</td>\n",
       "      <td>NaN</td>\n",
       "      <td>NaN</td>\n",
       "      <td>NaN</td>\n",
       "      <td>NaN</td>\n",
       "      <td>0.000000</td>\n",
       "      <td>NaN</td>\n",
       "      <td>NaN</td>\n",
       "      <td>0</td>\n",
       "      <td>5</td>\n",
       "      <td>1</td>\n",
       "    </tr>\n",
       "    <tr>\n",
       "      <th>217938</th>\n",
       "      <td>14026769</td>\n",
       "      <td>1.252340e+12</td>\n",
       "      <td>1.420242e+09</td>\n",
       "      <td>0.00000</td>\n",
       "      <td>0.0000</td>\n",
       "      <td>0.0</td>\n",
       "      <td>335.000000</td>\n",
       "      <td>52.458618</td>\n",
       "      <td>4.581316</td>\n",
       "      <td>0.0</td>\n",
       "      <td>...</td>\n",
       "      <td>7.383374e+05</td>\n",
       "      <td>NaN</td>\n",
       "      <td>NaN</td>\n",
       "      <td>NaN</td>\n",
       "      <td>0.000000</td>\n",
       "      <td>NaN</td>\n",
       "      <td>NaN</td>\n",
       "      <td>0</td>\n",
       "      <td>5</td>\n",
       "      <td>1</td>\n",
       "    </tr>\n",
       "    <tr>\n",
       "      <th>217939</th>\n",
       "      <td>14026770</td>\n",
       "      <td>1.252340e+12</td>\n",
       "      <td>1.420243e+09</td>\n",
       "      <td>0.00000</td>\n",
       "      <td>0.0000</td>\n",
       "      <td>0.0</td>\n",
       "      <td>335.000000</td>\n",
       "      <td>52.458618</td>\n",
       "      <td>4.581316</td>\n",
       "      <td>0.0</td>\n",
       "      <td>...</td>\n",
       "      <td>7.383358e+05</td>\n",
       "      <td>5.873240e+06</td>\n",
       "      <td>7.383374e+05</td>\n",
       "      <td>1.420241e+09</td>\n",
       "      <td>0.000000</td>\n",
       "      <td>-0.000000</td>\n",
       "      <td>-0.000000</td>\n",
       "      <td>1</td>\n",
       "      <td>5</td>\n",
       "      <td>1</td>\n",
       "    </tr>\n",
       "    <tr>\n",
       "      <th>217940</th>\n",
       "      <td>14026771</td>\n",
       "      <td>1.252340e+12</td>\n",
       "      <td>1.420244e+09</td>\n",
       "      <td>0.00000</td>\n",
       "      <td>0.0000</td>\n",
       "      <td>0.0</td>\n",
       "      <td>335.000000</td>\n",
       "      <td>52.458618</td>\n",
       "      <td>4.581316</td>\n",
       "      <td>0.0</td>\n",
       "      <td>...</td>\n",
       "      <td>7.383358e+05</td>\n",
       "      <td>5.873236e+06</td>\n",
       "      <td>7.383358e+05</td>\n",
       "      <td>1.420242e+09</td>\n",
       "      <td>0.000000</td>\n",
       "      <td>-0.000000</td>\n",
       "      <td>-0.000000</td>\n",
       "      <td>1</td>\n",
       "      <td>5</td>\n",
       "      <td>1</td>\n",
       "    </tr>\n",
       "    <tr>\n",
       "      <th>217941</th>\n",
       "      <td>14026772</td>\n",
       "      <td>1.252340e+12</td>\n",
       "      <td>1.420245e+09</td>\n",
       "      <td>0.00000</td>\n",
       "      <td>0.0000</td>\n",
       "      <td>0.0</td>\n",
       "      <td>335.000000</td>\n",
       "      <td>52.458599</td>\n",
       "      <td>4.581316</td>\n",
       "      <td>0.0</td>\n",
       "      <td>...</td>\n",
       "      <td>7.383358e+05</td>\n",
       "      <td>5.873236e+06</td>\n",
       "      <td>7.383358e+05</td>\n",
       "      <td>1.420243e+09</td>\n",
       "      <td>0.000000</td>\n",
       "      <td>-0.000000</td>\n",
       "      <td>-0.000000</td>\n",
       "      <td>1</td>\n",
       "      <td>5</td>\n",
       "      <td>1</td>\n",
       "    </tr>\n",
       "    <tr>\n",
       "      <th>...</th>\n",
       "      <td>...</td>\n",
       "      <td>...</td>\n",
       "      <td>...</td>\n",
       "      <td>...</td>\n",
       "      <td>...</td>\n",
       "      <td>...</td>\n",
       "      <td>...</td>\n",
       "      <td>...</td>\n",
       "      <td>...</td>\n",
       "      <td>...</td>\n",
       "      <td>...</td>\n",
       "      <td>...</td>\n",
       "      <td>...</td>\n",
       "      <td>...</td>\n",
       "      <td>...</td>\n",
       "      <td>...</td>\n",
       "      <td>...</td>\n",
       "      <td>...</td>\n",
       "      <td>...</td>\n",
       "      <td>...</td>\n",
       "      <td>...</td>\n",
       "    </tr>\n",
       "    <tr>\n",
       "      <th>217477</th>\n",
       "      <td>13875859</td>\n",
       "      <td>2.812058e+14</td>\n",
       "      <td>1.419424e+09</td>\n",
       "      <td>403486.06250</td>\n",
       "      <td>473074.0000</td>\n",
       "      <td>11.1</td>\n",
       "      <td>259.100006</td>\n",
       "      <td>14.367633</td>\n",
       "      <td>-28.358467</td>\n",
       "      <td>1.0</td>\n",
       "      <td>...</td>\n",
       "      <td>-3.732743e+06</td>\n",
       "      <td>2.178764e+06</td>\n",
       "      <td>-3.732680e+06</td>\n",
       "      <td>1.419424e+09</td>\n",
       "      <td>0.009879</td>\n",
       "      <td>-0.000143</td>\n",
       "      <td>-0.000100</td>\n",
       "      <td>12</td>\n",
       "      <td>2</td>\n",
       "      <td>12</td>\n",
       "    </tr>\n",
       "    <tr>\n",
       "      <th>217478</th>\n",
       "      <td>13875860</td>\n",
       "      <td>2.812058e+14</td>\n",
       "      <td>1.419424e+09</td>\n",
       "      <td>403486.06250</td>\n",
       "      <td>473074.0000</td>\n",
       "      <td>11.1</td>\n",
       "      <td>258.500000</td>\n",
       "      <td>14.367117</td>\n",
       "      <td>-28.361084</td>\n",
       "      <td>1.0</td>\n",
       "      <td>...</td>\n",
       "      <td>-3.733209e+06</td>\n",
       "      <td>2.178766e+06</td>\n",
       "      <td>-3.732743e+06</td>\n",
       "      <td>1.419424e+09</td>\n",
       "      <td>0.011354</td>\n",
       "      <td>-0.000103</td>\n",
       "      <td>-0.000102</td>\n",
       "      <td>12</td>\n",
       "      <td>2</td>\n",
       "      <td>12</td>\n",
       "    </tr>\n",
       "    <tr>\n",
       "      <th>217479</th>\n",
       "      <td>13875861</td>\n",
       "      <td>2.812058e+14</td>\n",
       "      <td>1.419424e+09</td>\n",
       "      <td>404477.40625</td>\n",
       "      <td>473862.8125</td>\n",
       "      <td>11.0</td>\n",
       "      <td>257.299988</td>\n",
       "      <td>14.366900</td>\n",
       "      <td>-28.362116</td>\n",
       "      <td>1.0</td>\n",
       "      <td>...</td>\n",
       "      <td>-3.733600e+06</td>\n",
       "      <td>2.178779e+06</td>\n",
       "      <td>-3.733209e+06</td>\n",
       "      <td>1.419424e+09</td>\n",
       "      <td>0.012415</td>\n",
       "      <td>-0.000177</td>\n",
       "      <td>-0.000140</td>\n",
       "      <td>12</td>\n",
       "      <td>2</td>\n",
       "      <td>12</td>\n",
       "    </tr>\n",
       "    <tr>\n",
       "      <th>217480</th>\n",
       "      <td>13875862</td>\n",
       "      <td>2.812058e+14</td>\n",
       "      <td>1.419424e+09</td>\n",
       "      <td>404477.40625</td>\n",
       "      <td>473862.8125</td>\n",
       "      <td>11.1</td>\n",
       "      <td>259.100006</td>\n",
       "      <td>14.366800</td>\n",
       "      <td>-28.362633</td>\n",
       "      <td>1.0</td>\n",
       "      <td>...</td>\n",
       "      <td>-3.733755e+06</td>\n",
       "      <td>2.178794e+06</td>\n",
       "      <td>-3.733600e+06</td>\n",
       "      <td>1.419424e+09</td>\n",
       "      <td>0.015811</td>\n",
       "      <td>-0.000527</td>\n",
       "      <td>-0.000333</td>\n",
       "      <td>12</td>\n",
       "      <td>2</td>\n",
       "      <td>12</td>\n",
       "    </tr>\n",
       "    <tr>\n",
       "      <th>217481</th>\n",
       "      <td>13875863</td>\n",
       "      <td>2.812058e+14</td>\n",
       "      <td>1.419424e+09</td>\n",
       "      <td>404477.40625</td>\n",
       "      <td>473862.8125</td>\n",
       "      <td>11.1</td>\n",
       "      <td>258.899994</td>\n",
       "      <td>14.366700</td>\n",
       "      <td>-28.363199</td>\n",
       "      <td>1.0</td>\n",
       "      <td>...</td>\n",
       "      <td>-3.733832e+06</td>\n",
       "      <td>2.178798e+06</td>\n",
       "      <td>-3.733755e+06</td>\n",
       "      <td>1.419424e+09</td>\n",
       "      <td>0.016793</td>\n",
       "      <td>-0.000840</td>\n",
       "      <td>-0.000586</td>\n",
       "      <td>12</td>\n",
       "      <td>2</td>\n",
       "      <td>12</td>\n",
       "    </tr>\n",
       "  </tbody>\n",
       "</table>\n",
       "<p>78522 rows × 27 columns</p>\n",
       "</div>"
      ],
      "text/plain": [
       "           index          mmsi     timestamp  distance_from_shore  \\\n",
       "217937  14026768  1.252340e+12  1.420241e+09              0.00000   \n",
       "217938  14026769  1.252340e+12  1.420242e+09              0.00000   \n",
       "217939  14026770  1.252340e+12  1.420243e+09              0.00000   \n",
       "217940  14026771  1.252340e+12  1.420244e+09              0.00000   \n",
       "217941  14026772  1.252340e+12  1.420245e+09              0.00000   \n",
       "...          ...           ...           ...                  ...   \n",
       "217477  13875859  2.812058e+14  1.419424e+09         403486.06250   \n",
       "217478  13875860  2.812058e+14  1.419424e+09         403486.06250   \n",
       "217479  13875861  2.812058e+14  1.419424e+09         404477.40625   \n",
       "217480  13875862  2.812058e+14  1.419424e+09         404477.40625   \n",
       "217481  13875863  2.812058e+14  1.419424e+09         404477.40625   \n",
       "\n",
       "        distance_from_port  speed      course        lat        lon  \\\n",
       "217937              0.0000    0.0  335.000000  52.458649   4.581333   \n",
       "217938              0.0000    0.0  335.000000  52.458618   4.581316   \n",
       "217939              0.0000    0.0  335.000000  52.458618   4.581316   \n",
       "217940              0.0000    0.0  335.000000  52.458618   4.581316   \n",
       "217941              0.0000    0.0  335.000000  52.458599   4.581316   \n",
       "...                    ...    ...         ...        ...        ...   \n",
       "217477         473074.0000   11.1  259.100006  14.367633 -28.358467   \n",
       "217478         473074.0000   11.1  258.500000  14.367117 -28.361084   \n",
       "217479         473862.8125   11.0  257.299988  14.366900 -28.362116   \n",
       "217480         473862.8125   11.1  259.100006  14.366800 -28.362633   \n",
       "217481         473862.8125   11.1  258.899994  14.366700 -28.363199   \n",
       "\n",
       "        is_fishing  ...     y_one_ago     x_two_ago     y_two_ago  \\\n",
       "217937         0.0  ...           NaN           NaN           NaN   \n",
       "217938         0.0  ...  7.383374e+05           NaN           NaN   \n",
       "217939         0.0  ...  7.383358e+05  5.873240e+06  7.383374e+05   \n",
       "217940         0.0  ...  7.383358e+05  5.873236e+06  7.383358e+05   \n",
       "217941         0.0  ...  7.383358e+05  5.873236e+06  7.383358e+05   \n",
       "...            ...  ...           ...           ...           ...   \n",
       "217477         1.0  ... -3.732743e+06  2.178764e+06 -3.732680e+06   \n",
       "217478         1.0  ... -3.733209e+06  2.178766e+06 -3.732743e+06   \n",
       "217479         1.0  ... -3.733600e+06  2.178779e+06 -3.733209e+06   \n",
       "217480         1.0  ... -3.733755e+06  2.178794e+06 -3.733600e+06   \n",
       "217481         1.0  ... -3.733832e+06  2.178798e+06 -3.733755e+06   \n",
       "\n",
       "        time_two_ago  Moving_Angle  Angular_Velocity  EWA_AngularVel  \\\n",
       "217937           NaN      0.000000               NaN             NaN   \n",
       "217938           NaN      0.000000               NaN             NaN   \n",
       "217939  1.420241e+09      0.000000         -0.000000       -0.000000   \n",
       "217940  1.420242e+09      0.000000         -0.000000       -0.000000   \n",
       "217941  1.420243e+09      0.000000         -0.000000       -0.000000   \n",
       "...              ...           ...               ...             ...   \n",
       "217477  1.419424e+09      0.009879         -0.000143       -0.000100   \n",
       "217478  1.419424e+09      0.011354         -0.000103       -0.000102   \n",
       "217479  1.419424e+09      0.012415         -0.000177       -0.000140   \n",
       "217480  1.419424e+09      0.015811         -0.000527       -0.000333   \n",
       "217481  1.419424e+09      0.016793         -0.000840       -0.000586   \n",
       "\n",
       "        Hour_of_Day  Day_of_Week  Month_of_Year  \n",
       "217937            0            5              1  \n",
       "217938            0            5              1  \n",
       "217939            1            5              1  \n",
       "217940            1            5              1  \n",
       "217941            1            5              1  \n",
       "...             ...          ...            ...  \n",
       "217477           12            2             12  \n",
       "217478           12            2             12  \n",
       "217479           12            2             12  \n",
       "217480           12            2             12  \n",
       "217481           12            2             12  \n",
       "\n",
       "[78522 rows x 27 columns]"
      ]
     },
     "execution_count": 497,
     "metadata": {},
     "output_type": "execute_result"
    }
   ],
   "source": [
    "timestamp = TimestampConversion('timestamp', 'lat', 'lon')\n",
    "timestamp.fit_transform(training_data)\n",
    "timestamp.fit_transform(test_data)"
   ]
  },
  {
   "cell_type": "markdown",
   "metadata": {},
   "source": [
    "Reduce the training and test sets to the desired varaibles."
   ]
  },
  {
   "cell_type": "code",
   "execution_count": 498,
   "metadata": {},
   "outputs": [],
   "source": [
    "#cat_vars and num_vars are for the pipeline.\n",
    "cat_vars = ['Month_of_Year', 'Day_of_Week', \"gear_type_str\"]\n",
    "num_vars = ['distance_from_port', 'lat', 'lon', 'course', 'Angular_Velocity', 'EWA_AngularVel', 'speed']\n",
    "\n",
    "#analysis_vars is for the algorithm.\n",
    "analysis_vars = cat_vars + num_vars"
   ]
  },
  {
   "cell_type": "code",
   "execution_count": 499,
   "metadata": {},
   "outputs": [],
   "source": [
    "test_data = test_data.loc[:, analysis_vars + [\"is_fishing\"]]\n",
    "training_data = training_data.loc[:, analysis_vars + [\"is_fishing\", \"fold\"]]"
   ]
  },
  {
   "cell_type": "markdown",
   "metadata": {},
   "source": [
    "Save the test_set dataframe into a csv for later."
   ]
  },
  {
   "cell_type": "code",
   "execution_count": 500,
   "metadata": {},
   "outputs": [],
   "source": [
    "test_data.to_csv(os.path.join(my_path,\"GFW_TEST_DATA.csv\"), mode=\"w\", sep=\",\")"
   ]
  },
  {
   "cell_type": "markdown",
   "metadata": {},
   "source": [
    "## __Pipeline__"
   ]
  },
  {
   "cell_type": "markdown",
   "metadata": {},
   "source": [
    "The pipeline will be as follows:\n",
    "\n",
    "1) Scale continuous features (Do this last, after combined features are made).\n",
    "\n",
    "2) Encode categorical features.\n",
    "\n",
    "This can be applied to any number of folds, and then eventually to a test set."
   ]
  },
  {
   "cell_type": "markdown",
   "metadata": {},
   "source": [
    "The models that will be applied are logistic regression (l1/l2 regularized) and a random forest. These will filter out correlated variables and select the more important ones. For instance, in l2 regularization, the singular values associated with redundant correlated variable will be low, and thus will have a shrunken beta coefficient. "
   ]
  },
  {
   "cell_type": "code",
   "execution_count": 618,
   "metadata": {},
   "outputs": [],
   "source": [
    "def gfw_pipeline(num_vars=None, cat_vars=None, analysis_vars=None):\n",
    "    numerical_pipeline = Pipeline([\n",
    "    ('imputer', PandasSimpleImputer.PandasSimpleImputer('mean')),\n",
    "    #('scaler', PandasStandardScaler.PandasStandardScaler()),\n",
    "    ])\n",
    "    categorical_pipeline = Pipeline([\n",
    "    #('ord', OrdinalEncoder())\n",
    "    ('encoder', PandasOneHotEncoder.PandasOneHotEncoder()),\n",
    "    ])\n",
    "    full_pipeline = Pipeline([\n",
    "    ('num_cat', ColumnTransformer([\n",
    "        ('numerical', numerical_pipeline, num_vars),\n",
    "        ('categorical', categorical_pipeline, cat_vars),\n",
    "    ])),\n",
    "    ])\n",
    "    return full_pipeline"
   ]
  },
  {
   "cell_type": "markdown",
   "metadata": {},
   "source": [
    "## __Training Function__"
   ]
  },
  {
   "cell_type": "markdown",
   "metadata": {},
   "source": [
    "During training, we will need to save a model in a fold that performs well. Use the following modules for that."
   ]
  },
  {
   "cell_type": "code",
   "execution_count": 534,
   "metadata": {},
   "outputs": [],
   "source": [
    "import joblib\n",
    "import datetime"
   ]
  },
  {
   "cell_type": "markdown",
   "metadata": {},
   "source": [
    "This function will run do cross validation on the specified folds. Exclude gear type in the categorical features below. If we include multiple gear types, we should include and encode it."
   ]
  },
  {
   "cell_type": "code",
   "execution_count": 551,
   "metadata": {},
   "outputs": [],
   "source": [
    "def TrainFunc(X, y, pipeline, algo, label_var, num_vars=None, \n",
    "              cat_vars=None, analysis_vars=None, use_folds=1, \n",
    "              folds_col=\"fold\", store_models=True,):\n",
    "    \n",
    "    #Check that the parameters are valid, then train and validate\n",
    "    #on each fold. X and y should both have the fold column.\n",
    "    \n",
    "    assert isinstance(X, pd.DataFrame), \"Data parameter should \\\n",
    "        be a pandas dataframe\"\n",
    "    \n",
    "    if use_folds > len(np.unique(X[folds_col])):\n",
    "        print(f\"[INFO] ---> Only {len(np.unique(X[folds_col]))} folds exist\\\n",
    "        and {use_folds} folds were specified. Defaulting to max number\\\n",
    "        of folds.\")\n",
    "        use_folds = len(np.unique(X[folds_col]))\n",
    "        print(use_folds)\n",
    "    \n",
    "    #A dictionary to store model results.\n",
    "    model_scores = defaultdict(tuple)\n",
    "    \n",
    "    folds_list = [4]#list(range(1, len(np.unique(X[folds_col]))+1))\n",
    "    random.shuffle(folds_list)\n",
    "    \n",
    "    for fold_num in folds_list[:use_folds]:\n",
    "        X_train = X[X.fold!=fold_num].reset_index(drop=True)\n",
    "        y_train = y[y.fold!=fold_num][label_var].reset_index(drop=True)\n",
    "        X_valid = X[X.fold==fold_num].reset_index(drop=True)\n",
    "        y_valid = y[y.fold==fold_num][label_var].reset_index(drop=True)\n",
    "\n",
    "        #drop fold columns in  X (label_var was already selected for y),\n",
    "        #so we can ignore droping the fold column from y.\n",
    "        X_train = X_train.drop(\"fold\", axis=1)\n",
    "        X_valid = X_valid.drop(\"fold\", axis=1)\n",
    "\n",
    "        #Re-instantiate model\n",
    "        model_algo = algo\n",
    "        \n",
    "        #run pipeline and algorithm for training and validation\n",
    "        X_train_proc = pipeline.fit_transform(X_train)\n",
    "        algo.fit(X_train_proc, y_train)\n",
    "        training_predictions = model_algo.predict(X_train_proc)\n",
    "        X_valid_proc = pipeline.transform(X_valid)\n",
    "        validation_predictions = model_algo.predict(X_valid_proc)\n",
    "        \n",
    "        training_rmse = np.sqrt(mean_squared_error(y_train, training_predictions))\n",
    "        validation_rmse = np.sqrt(mean_squared_error(y_valid, validation_predictions))\n",
    "        \n",
    "        #Store model\n",
    "        if store_models:\n",
    "            ts = datetime.datetime.now().timestamp()\n",
    "            ts = str(ts).replace(\".\", \"_\")\n",
    "            joblib.dump(model_algo, os.path.join(\"/home/jonathan/Documents/Py_Projects/gfw_proj/models\", \n",
    "                                     f\"{str(type(model_algo).__name__)}-{ts}-fold_{fold_num}.pkl\"))\n",
    "        \n",
    "        #display fold metrics\n",
    "        print(f\"---------------FOLD {fold_num} MODEL REPORT ---------------\\n\")\n",
    "        print(f\"CLASSIFICATION REPORT: \\n\\n {classification_report(y_valid, validation_predictions)}\\n\\n\")\n",
    "        print(f\"CONFUSION MATRIX: \\n\\n {confusion_matrix(y_valid, validation_predictions)}\\n\\n\")\n",
    "        print(f\"ROC AUC SCORE: {roc_auc_score(y_valid, validation_predictions):.5f}\\n\")\n",
    "        \n",
    "        #store training and validation accuracy/costs\n",
    "        model_scores[f'fold_{fold_num}'] = (training_rmse, validation_rmse)\n",
    "    \n",
    "    return model_scores"
   ]
  },
  {
   "cell_type": "code",
   "execution_count": 552,
   "metadata": {},
   "outputs": [],
   "source": [
    "#max_depth=7, min_samples_split=20, n_estimators=300, class_weight='balanced'"
   ]
  },
  {
   "cell_type": "code",
   "execution_count": 553,
   "metadata": {
    "scrolled": true
   },
   "outputs": [
    {
     "name": "stdout",
     "output_type": "stream",
     "text": [
      "---------------FOLD 4 MODEL REPORT ---------------\n",
      "\n",
      "CLASSIFICATION REPORT: \n",
      "\n",
      "               precision    recall  f1-score   support\n",
      "\n",
      "         0.0       0.94      0.75      0.84     31240\n",
      "         1.0       0.79      0.95      0.87     30889\n",
      "\n",
      "    accuracy                           0.85     62129\n",
      "   macro avg       0.87      0.85      0.85     62129\n",
      "weighted avg       0.87      0.85      0.85     62129\n",
      "\n",
      "\n",
      "\n",
      "CONFUSION MATRIX: \n",
      "\n",
      " [[23584  7656]\n",
      " [ 1428 29461]]\n",
      "\n",
      "\n",
      "ROC AUC SCORE: 0.85435\n",
      "\n"
     ]
    }
   ],
   "source": [
    "scores = TrainFunc(X=training_data.drop('is_fishing', axis=1), y=training_data.loc[:, ['is_fishing', 'fold']],\n",
    "         pipeline=gfw_pipeline(num_vars=num_vars, cat_vars=cat_vars, analysis_vars=analysis_vars), \n",
    "         algo=RandomForestClassifier(max_depth=7, min_samples_split=20, n_estimators=350), \n",
    "                   label_var='is_fishing', analysis_vars=analysis_vars, use_folds=1)"
   ]
  },
  {
   "cell_type": "code",
   "execution_count": 554,
   "metadata": {
    "scrolled": false
   },
   "outputs": [
    {
     "data": {
      "text/plain": [
       "defaultdict(tuple, {'fold_4': (0.377770951633968, 0.3823766649797491)})"
      ]
     },
     "execution_count": 554,
     "metadata": {},
     "output_type": "execute_result"
    }
   ],
   "source": [
    "scores"
   ]
  },
  {
   "cell_type": "markdown",
   "metadata": {},
   "source": [
    "Load best model and test set."
   ]
  },
  {
   "cell_type": "code",
   "execution_count": 619,
   "metadata": {},
   "outputs": [],
   "source": [
    "my_model = joblib.load(os.path.join(\"/home/jonathan/Documents/Py_Projects/gfw_proj/models\",\n",
    "                                    \"RandomForestClassifier-1650142990_619393-fold_4.pkl\"))\n",
    "test_data = pd.read_csv(os.path.join(\"/home/jonathan/Documents/Py_Projects/gfw_proj/data\", \n",
    "                                    \"GFW_TEST_DATA.csv\"))"
   ]
  },
  {
   "cell_type": "markdown",
   "metadata": {},
   "source": [
    "Organize data like in TrainFunc."
   ]
  },
  {
   "cell_type": "code",
   "execution_count": 620,
   "metadata": {},
   "outputs": [],
   "source": [
    "X_train=training_data.drop(['is_fishing', 'fold'], axis=1).reset_index(drop=True)\n",
    "y_train=training_data.loc[:, ['is_fishing']].reset_index(drop=True)\n",
    "\n",
    "X_test=test_data.drop('is_fishing', axis=1).reset_index(drop=True)\n",
    "y_test=test_data.loc[:, ['is_fishing']].reset_index(drop=True)"
   ]
  },
  {
   "cell_type": "markdown",
   "metadata": {},
   "source": [
    "Instantiate model."
   ]
  },
  {
   "cell_type": "code",
   "execution_count": 621,
   "metadata": {
    "scrolled": true
   },
   "outputs": [],
   "source": [
    "algo = RandomForestClassifier(max_depth=7, min_samples_split=20, n_estimators=350)"
   ]
  },
  {
   "cell_type": "markdown",
   "metadata": {},
   "source": [
    "Apply pipeline and train."
   ]
  },
  {
   "cell_type": "code",
   "execution_count": 622,
   "metadata": {},
   "outputs": [
    {
     "name": "stderr",
     "output_type": "stream",
     "text": [
      "/tmp/ipykernel_2814/3622967672.py:4: DataConversionWarning: A column-vector y was passed when a 1d array was expected. Please change the shape of y to (n_samples,), for example using ravel().\n",
      "  algo.fit(X_train_proc, y_train)\n"
     ]
    }
   ],
   "source": [
    "pipeline = gfw_pipeline(num_vars=num_vars, cat_vars=cat_vars, analysis_vars=analysis_vars)\n",
    "\n",
    "X_train_proc = pipeline.fit_transform(X_train)\n",
    "algo.fit(X_train_proc, y_train)\n",
    "training_predictions = algo.predict(X_train_proc)\n",
    "X_test_proc = pipeline.transform(X_test)\n",
    "test_predictions = algo.predict(X_test_proc)"
   ]
  },
  {
   "cell_type": "markdown",
   "metadata": {},
   "source": [
    "Get errors."
   ]
  },
  {
   "cell_type": "code",
   "execution_count": 623,
   "metadata": {
    "scrolled": true
   },
   "outputs": [
    {
     "name": "stdout",
     "output_type": "stream",
     "text": [
      "TRAINING RMSE: 0.37785 \n",
      "TEST RMSE: 0.37319\n"
     ]
    }
   ],
   "source": [
    "training_rmse = np.sqrt(mean_squared_error(y_train, training_predictions))\n",
    "test_rmse = np.sqrt(mean_squared_error(y_test, test_predictions))\n",
    "\n",
    "print(f\"TRAINING RMSE: {training_rmse:.5f} \\nTEST RMSE: {test_rmse:.5f}\")"
   ]
  },
  {
   "cell_type": "markdown",
   "metadata": {},
   "source": [
    "## __Preliminary Model Results on Test Data__"
   ]
  },
  {
   "cell_type": "markdown",
   "metadata": {},
   "source": [
    "Generate classification metrics."
   ]
  },
  {
   "cell_type": "code",
   "execution_count": 624,
   "metadata": {},
   "outputs": [
    {
     "name": "stdout",
     "output_type": "stream",
     "text": [
      "---------------TEST MODEL REPORT ---------------\n",
      "\n",
      "CLASSIFICATION REPORT: \n",
      "\n",
      "               precision    recall  f1-score   support\n",
      "\n",
      "         0.0       0.95      0.75      0.84     37852\n",
      "         1.0       0.81      0.96      0.88     40670\n",
      "\n",
      "    accuracy                           0.86     78522\n",
      "   macro avg       0.88      0.86      0.86     78522\n",
      "weighted avg       0.87      0.86      0.86     78522\n",
      "\n",
      "\n",
      "\n",
      "CONFUSION MATRIX: \n",
      "\n",
      " [[28467  9385]\n",
      " [ 1551 39119]]\n",
      "\n",
      "\n",
      "ROC AUC SCORE: 0.85696\n",
      "\n"
     ]
    }
   ],
   "source": [
    "print(f\"---------------TEST MODEL REPORT ---------------\\n\")\n",
    "print(f\"CLASSIFICATION REPORT: \\n\\n {classification_report(y_test, test_predictions)}\\n\\n\")\n",
    "print(f\"CONFUSION MATRIX: \\n\\n {confusion_matrix(y_test, test_predictions)}\\n\\n\")\n",
    "print(f\"ROC AUC SCORE: {roc_auc_score(y_test, test_predictions):.5f}\\n\")"
   ]
  },
  {
   "cell_type": "markdown",
   "metadata": {},
   "source": [
    "Confusion matrix displayed."
   ]
  },
  {
   "cell_type": "code",
   "execution_count": 625,
   "metadata": {},
   "outputs": [
    {
     "data": {
      "text/plain": [
       "<sklearn.metrics._plot.confusion_matrix.ConfusionMatrixDisplay at 0x7f2d8c2de760>"
      ]
     },
     "execution_count": 625,
     "metadata": {},
     "output_type": "execute_result"
    },
    {
     "data": {
      "image/png": "[encoded data removed]",
      "text/plain": [
       "<Figure size 432x288 with 2 Axes>"
      ]
     },
     "metadata": {
      "needs_background": "light"
     },
     "output_type": "display_data"
    }
   ],
   "source": [
    "cm = confusion_matrix(y_test, test_predictions, labels=algo.classes_)\n",
    "disp = ConfusionMatrixDisplay(confusion_matrix=cm, display_labels=algo.classes_)\n",
    "disp.plot()"
   ]
  },
  {
   "cell_type": "markdown",
   "metadata": {},
   "source": [
    "Recall is important when identifying illegal fishing -- we must be able to identify all the boats that are actually fishing to have a good idea of how much illegal fishing is occurring. If we get to the point where we overclassify fishing, but within those classifications, all those who are truly fishing are included, our illegal fishing estimate will only be an overestimate, as opposed to an underestimate.\n",
    "\n",
    "As an objective interpretation of this graph, we can see that the model tends to overclassify fishing regardless of whether or not the boat is actually fishing. But, if the boat is truly fishing, then the model almost always says that it is.\n",
    "\n",
    "Next steps are to apply the MMSI spoofing algorithm to prevent unrealistic jumps in the coordinates, improve the AUC by trying individual gear types on the model, try a model without the engineered variable, and inspect feature importances."
   ]
  },
  {
   "cell_type": "code",
   "execution_count": 626,
   "metadata": {
    "scrolled": true
   },
   "outputs": [
    {
     "name": "stdout",
     "output_type": "stream",
     "text": [
      "[1.33205026e-04 2.15293656e-04 2.50078852e-04 3.53246148e-04\n",
      " 3.64779087e-04 3.70125059e-04 3.83956140e-04 4.21292861e-04\n",
      " 5.45025910e-04 8.57731666e-04 9.16420794e-04 1.01072954e-03\n",
      " 1.21047295e-03 1.42361320e-03 1.48532722e-03 2.27259546e-03\n",
      " 2.63565667e-03 3.16887879e-03 4.33480304e-03 1.17187819e-02\n",
      " 1.92244395e-02 2.73385786e-02 3.37075165e-02 3.44987937e-02\n",
      " 4.14829833e-02 8.78322805e-02 2.77457110e-01 4.44386284e-01]\n"
     ]
    }
   ],
   "source": [
    "fi = algo.feature_importances_\n",
    "print(np.sort(fi))"
   ]
  },
  {
   "cell_type": "code",
   "execution_count": null,
   "metadata": {},
   "outputs": [],
   "source": []
  }
 ],
 "metadata": {
  "kernelspec": {
   "display_name": "Python 3",
   "language": "python",
   "name": "python3"
  },
  "language_info": {
   "codemirror_mode": {
    "name": "ipython",
    "version": 3
   },
   "file_extension": ".py",
   "mimetype": "text/x-python",
   "name": "python",
   "nbconvert_exporter": "python",
   "pygments_lexer": "ipython3",
   "version": "3.9.7"
  }
 },
 "nbformat": 4,
 "nbformat_minor": 4
}
